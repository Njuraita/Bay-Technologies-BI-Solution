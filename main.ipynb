{
 "cells": [
  {
   "cell_type": "markdown",
   "metadata": {},
   "source": [
    "# **getINNOtized-BI-Solution**"
   ]
  },
  {
   "cell_type": "markdown",
   "metadata": {},
   "source": [
    "## **Business Understanding**"
   ]
  },
  {
   "cell_type": "markdown",
   "metadata": {},
   "source": [
    "Overview: Thi is an end-to-end business intelligence solution for getINNOtized, analyzing 2019 sales data to provide insights that help the business find opportunities to drive more sales and work more efficiently."
   ]
  },
  {
   "cell_type": "markdown",
   "metadata": {},
   "source": [
    "Questions sort to be answered: \n",
    "\n",
    "1. How much money did we make this year? \n",
    "\n",
    "2. Can we identify any seasonality in the sales? \n",
    "\n",
    "3. What are our best and worst-selling products? \n",
    "\n",
    "4. How do sales compare to previous months or weeks? \n",
    "\n",
    "5. Which cities are our products delivered to most? \n",
    "\n",
    "6. How do product categories compare in revenue generated and quantities ordered? \n",
    "\n",
    "7. You are required to show additional details from your findings in your data. "
   ]
  },
  {
   "cell_type": "markdown",
   "metadata": {},
   "source": [
    "NB: Products with unit prices above $99.99 should be labeled high-level products otherwise they should be basic level. "
   ]
  },
  {
   "cell_type": "markdown",
   "metadata": {},
   "source": [
    "**HYPOTHESIS TESTING**"
   ]
  },
  {
   "cell_type": "markdown",
   "metadata": {},
   "source": [
    "Null Hypothesis (H₀): There is no significant difference in the total sales (revenue) between high-level products priced above 99.99 and low-level products priced below 99.99\n",
    "\n",
    "Alternative Hypothesis (H₁): High-level products priced above 99.99 and low-level products priced below 99.99"
   ]
  },
  {
   "cell_type": "markdown",
   "metadata": {},
   "source": [
    "## **Data Understanding**"
   ]
  },
  {
   "cell_type": "code",
   "execution_count": 1,
   "metadata": {},
   "outputs": [],
   "source": [
    "import pyodbc #just installed with pip\n",
    "from dotenv import dotenv_values \n",
    "import pandas as pd\n",
    "import numpy as np\n",
    "import matplotlib.pyplot as plt\n",
    "import matplotlib.cm as cm\n",
    "import seaborn as sns\n",
    "import plotly.express as px\n",
    "import plotly.graph_objs as go\n",
    "import re\n",
    "from datetime import datetime\n",
    "\n",
    "\n",
    "from scipy import stats\n",
    "import statsmodels.api as sm\n",
    "from statsmodels.tsa.seasonal import seasonal_decompose\n",
    "from statsmodels.formula.api import ols\n",
    "from statsmodels.stats.anova import anova_lm\n",
    "\n",
    "\n",
    "\n",
    "\n",
    "import warnings\n",
    "warnings.filterwarnings('ignore')\n"
   ]
  },
  {
   "cell_type": "code",
   "execution_count": 2,
   "metadata": {},
   "outputs": [],
   "source": [
    "#Loading data for January to June 2019  from OneDrive downloaded data\n",
    "\n",
    "Jan_2019= pd.read_csv('Data\\Sales_January_2019.csv')\n",
    "Feb_2019= pd.read_csv('Data\\Sales_February_2019.csv')\n",
    "Mar_2019= pd.read_csv('Data\\Sales_March_2019.csv')\n",
    "Apr_2019= pd.read_csv('Data\\Sales_April_2019.csv')\n",
    "May_2019= pd.read_csv('Data\\Sales_May_2019.csv')\n",
    "Jun_2019= pd.read_csv('Data\\Sales_June_2019.csv')\n"
   ]
  },
  {
   "cell_type": "code",
   "execution_count": 3,
   "metadata": {},
   "outputs": [
    {
     "data": {
      "text/html": [
       "<div>\n",
       "<style scoped>\n",
       "    .dataframe tbody tr th:only-of-type {\n",
       "        vertical-align: middle;\n",
       "    }\n",
       "\n",
       "    .dataframe tbody tr th {\n",
       "        vertical-align: top;\n",
       "    }\n",
       "\n",
       "    .dataframe thead th {\n",
       "        text-align: right;\n",
       "    }\n",
       "</style>\n",
       "<table border=\"1\" class=\"dataframe\">\n",
       "  <thead>\n",
       "    <tr style=\"text-align: right;\">\n",
       "      <th></th>\n",
       "      <th>Order ID</th>\n",
       "      <th>Product</th>\n",
       "      <th>Quantity Ordered</th>\n",
       "      <th>Price Each</th>\n",
       "      <th>Order Date</th>\n",
       "      <th>Purchase Address</th>\n",
       "    </tr>\n",
       "  </thead>\n",
       "  <tbody>\n",
       "    <tr>\n",
       "      <th>0</th>\n",
       "      <td>141234</td>\n",
       "      <td>iPhone</td>\n",
       "      <td>1</td>\n",
       "      <td>700</td>\n",
       "      <td>01/22/19 21:25</td>\n",
       "      <td>944 Walnut St, Boston, MA 02215</td>\n",
       "    </tr>\n",
       "    <tr>\n",
       "      <th>1</th>\n",
       "      <td>141235</td>\n",
       "      <td>Lightning Charging Cable</td>\n",
       "      <td>1</td>\n",
       "      <td>14.95</td>\n",
       "      <td>01/28/19 14:15</td>\n",
       "      <td>185 Maple St, Portland, OR 97035</td>\n",
       "    </tr>\n",
       "    <tr>\n",
       "      <th>2</th>\n",
       "      <td>141236</td>\n",
       "      <td>Wired Headphones</td>\n",
       "      <td>2</td>\n",
       "      <td>11.99</td>\n",
       "      <td>01/17/19 13:33</td>\n",
       "      <td>538 Adams St, San Francisco, CA 94016</td>\n",
       "    </tr>\n",
       "    <tr>\n",
       "      <th>3</th>\n",
       "      <td>141237</td>\n",
       "      <td>27in FHD Monitor</td>\n",
       "      <td>1</td>\n",
       "      <td>149.99</td>\n",
       "      <td>01/05/19 20:33</td>\n",
       "      <td>738 10th St, Los Angeles, CA 90001</td>\n",
       "    </tr>\n",
       "    <tr>\n",
       "      <th>4</th>\n",
       "      <td>141238</td>\n",
       "      <td>Wired Headphones</td>\n",
       "      <td>1</td>\n",
       "      <td>11.99</td>\n",
       "      <td>01/25/19 11:59</td>\n",
       "      <td>387 10th St, Austin, TX 73301</td>\n",
       "    </tr>\n",
       "  </tbody>\n",
       "</table>\n",
       "</div>"
      ],
      "text/plain": [
       "  Order ID                   Product Quantity Ordered Price Each  \\\n",
       "0   141234                    iPhone                1        700   \n",
       "1   141235  Lightning Charging Cable                1      14.95   \n",
       "2   141236          Wired Headphones                2      11.99   \n",
       "3   141237          27in FHD Monitor                1     149.99   \n",
       "4   141238          Wired Headphones                1      11.99   \n",
       "\n",
       "       Order Date                       Purchase Address  \n",
       "0  01/22/19 21:25        944 Walnut St, Boston, MA 02215  \n",
       "1  01/28/19 14:15       185 Maple St, Portland, OR 97035  \n",
       "2  01/17/19 13:33  538 Adams St, San Francisco, CA 94016  \n",
       "3  01/05/19 20:33     738 10th St, Los Angeles, CA 90001  \n",
       "4  01/25/19 11:59          387 10th St, Austin, TX 73301  "
      ]
     },
     "execution_count": 3,
     "metadata": {},
     "output_type": "execute_result"
    }
   ],
   "source": [
    "Jan_2019.head()"
   ]
  },
  {
   "cell_type": "code",
   "execution_count": 4,
   "metadata": {},
   "outputs": [
    {
     "data": {
      "text/html": [
       "<div>\n",
       "<style scoped>\n",
       "    .dataframe tbody tr th:only-of-type {\n",
       "        vertical-align: middle;\n",
       "    }\n",
       "\n",
       "    .dataframe tbody tr th {\n",
       "        vertical-align: top;\n",
       "    }\n",
       "\n",
       "    .dataframe thead th {\n",
       "        text-align: right;\n",
       "    }\n",
       "</style>\n",
       "<table border=\"1\" class=\"dataframe\">\n",
       "  <thead>\n",
       "    <tr style=\"text-align: right;\">\n",
       "      <th></th>\n",
       "      <th>Order ID</th>\n",
       "      <th>Product</th>\n",
       "      <th>Quantity Ordered</th>\n",
       "      <th>Price Each</th>\n",
       "      <th>Order Date</th>\n",
       "      <th>Purchase Address</th>\n",
       "    </tr>\n",
       "  </thead>\n",
       "  <tbody>\n",
       "    <tr>\n",
       "      <th>0</th>\n",
       "      <td>150502</td>\n",
       "      <td>iPhone</td>\n",
       "      <td>1</td>\n",
       "      <td>700</td>\n",
       "      <td>02/18/19 01:35</td>\n",
       "      <td>866 Spruce St, Portland, ME 04101</td>\n",
       "    </tr>\n",
       "    <tr>\n",
       "      <th>1</th>\n",
       "      <td>150503</td>\n",
       "      <td>AA Batteries (4-pack)</td>\n",
       "      <td>1</td>\n",
       "      <td>3.84</td>\n",
       "      <td>02/13/19 07:24</td>\n",
       "      <td>18 13th St, San Francisco, CA 94016</td>\n",
       "    </tr>\n",
       "    <tr>\n",
       "      <th>2</th>\n",
       "      <td>150504</td>\n",
       "      <td>27in 4K Gaming Monitor</td>\n",
       "      <td>1</td>\n",
       "      <td>389.99</td>\n",
       "      <td>02/18/19 09:46</td>\n",
       "      <td>52 6th St, New York City, NY 10001</td>\n",
       "    </tr>\n",
       "    <tr>\n",
       "      <th>3</th>\n",
       "      <td>150505</td>\n",
       "      <td>Lightning Charging Cable</td>\n",
       "      <td>1</td>\n",
       "      <td>14.95</td>\n",
       "      <td>02/02/19 16:47</td>\n",
       "      <td>129 Cherry St, Atlanta, GA 30301</td>\n",
       "    </tr>\n",
       "    <tr>\n",
       "      <th>4</th>\n",
       "      <td>150506</td>\n",
       "      <td>AA Batteries (4-pack)</td>\n",
       "      <td>2</td>\n",
       "      <td>3.84</td>\n",
       "      <td>02/28/19 20:32</td>\n",
       "      <td>548 Lincoln St, Seattle, WA 98101</td>\n",
       "    </tr>\n",
       "  </tbody>\n",
       "</table>\n",
       "</div>"
      ],
      "text/plain": [
       "  Order ID                   Product Quantity Ordered Price Each  \\\n",
       "0   150502                    iPhone                1        700   \n",
       "1   150503     AA Batteries (4-pack)                1       3.84   \n",
       "2   150504    27in 4K Gaming Monitor                1     389.99   \n",
       "3   150505  Lightning Charging Cable                1      14.95   \n",
       "4   150506     AA Batteries (4-pack)                2       3.84   \n",
       "\n",
       "       Order Date                     Purchase Address  \n",
       "0  02/18/19 01:35    866 Spruce St, Portland, ME 04101  \n",
       "1  02/13/19 07:24  18 13th St, San Francisco, CA 94016  \n",
       "2  02/18/19 09:46   52 6th St, New York City, NY 10001  \n",
       "3  02/02/19 16:47     129 Cherry St, Atlanta, GA 30301  \n",
       "4  02/28/19 20:32    548 Lincoln St, Seattle, WA 98101  "
      ]
     },
     "execution_count": 4,
     "metadata": {},
     "output_type": "execute_result"
    }
   ],
   "source": [
    "Feb_2019.head()"
   ]
  },
  {
   "cell_type": "code",
   "execution_count": 5,
   "metadata": {},
   "outputs": [
    {
     "data": {
      "text/html": [
       "<div>\n",
       "<style scoped>\n",
       "    .dataframe tbody tr th:only-of-type {\n",
       "        vertical-align: middle;\n",
       "    }\n",
       "\n",
       "    .dataframe tbody tr th {\n",
       "        vertical-align: top;\n",
       "    }\n",
       "\n",
       "    .dataframe thead th {\n",
       "        text-align: right;\n",
       "    }\n",
       "</style>\n",
       "<table border=\"1\" class=\"dataframe\">\n",
       "  <thead>\n",
       "    <tr style=\"text-align: right;\">\n",
       "      <th></th>\n",
       "      <th>Order ID</th>\n",
       "      <th>Product</th>\n",
       "      <th>Quantity Ordered</th>\n",
       "      <th>Price Each</th>\n",
       "      <th>Order Date</th>\n",
       "      <th>Purchase Address</th>\n",
       "    </tr>\n",
       "  </thead>\n",
       "  <tbody>\n",
       "    <tr>\n",
       "      <th>0</th>\n",
       "      <td>162009</td>\n",
       "      <td>iPhone</td>\n",
       "      <td>1</td>\n",
       "      <td>700</td>\n",
       "      <td>03/28/19 20:59</td>\n",
       "      <td>942 Church St, Austin, TX 73301</td>\n",
       "    </tr>\n",
       "    <tr>\n",
       "      <th>1</th>\n",
       "      <td>162009</td>\n",
       "      <td>Lightning Charging Cable</td>\n",
       "      <td>1</td>\n",
       "      <td>14.95</td>\n",
       "      <td>03/28/19 20:59</td>\n",
       "      <td>942 Church St, Austin, TX 73301</td>\n",
       "    </tr>\n",
       "    <tr>\n",
       "      <th>2</th>\n",
       "      <td>162009</td>\n",
       "      <td>Wired Headphones</td>\n",
       "      <td>2</td>\n",
       "      <td>11.99</td>\n",
       "      <td>03/28/19 20:59</td>\n",
       "      <td>942 Church St, Austin, TX 73301</td>\n",
       "    </tr>\n",
       "    <tr>\n",
       "      <th>3</th>\n",
       "      <td>162010</td>\n",
       "      <td>Bose SoundSport Headphones</td>\n",
       "      <td>1</td>\n",
       "      <td>99.99</td>\n",
       "      <td>03/17/19 05:39</td>\n",
       "      <td>261 10th St, San Francisco, CA 94016</td>\n",
       "    </tr>\n",
       "    <tr>\n",
       "      <th>4</th>\n",
       "      <td>162011</td>\n",
       "      <td>34in Ultrawide Monitor</td>\n",
       "      <td>1</td>\n",
       "      <td>379.99</td>\n",
       "      <td>03/10/19 00:01</td>\n",
       "      <td>764 13th St, San Francisco, CA 94016</td>\n",
       "    </tr>\n",
       "  </tbody>\n",
       "</table>\n",
       "</div>"
      ],
      "text/plain": [
       "  Order ID                     Product Quantity Ordered Price Each  \\\n",
       "0   162009                      iPhone                1        700   \n",
       "1   162009    Lightning Charging Cable                1      14.95   \n",
       "2   162009            Wired Headphones                2      11.99   \n",
       "3   162010  Bose SoundSport Headphones                1      99.99   \n",
       "4   162011      34in Ultrawide Monitor                1     379.99   \n",
       "\n",
       "       Order Date                      Purchase Address  \n",
       "0  03/28/19 20:59       942 Church St, Austin, TX 73301  \n",
       "1  03/28/19 20:59       942 Church St, Austin, TX 73301  \n",
       "2  03/28/19 20:59       942 Church St, Austin, TX 73301  \n",
       "3  03/17/19 05:39  261 10th St, San Francisco, CA 94016  \n",
       "4  03/10/19 00:01  764 13th St, San Francisco, CA 94016  "
      ]
     },
     "execution_count": 5,
     "metadata": {},
     "output_type": "execute_result"
    }
   ],
   "source": [
    "Mar_2019.head()"
   ]
  },
  {
   "cell_type": "code",
   "execution_count": 6,
   "metadata": {},
   "outputs": [
    {
     "data": {
      "text/html": [
       "<div>\n",
       "<style scoped>\n",
       "    .dataframe tbody tr th:only-of-type {\n",
       "        vertical-align: middle;\n",
       "    }\n",
       "\n",
       "    .dataframe tbody tr th {\n",
       "        vertical-align: top;\n",
       "    }\n",
       "\n",
       "    .dataframe thead th {\n",
       "        text-align: right;\n",
       "    }\n",
       "</style>\n",
       "<table border=\"1\" class=\"dataframe\">\n",
       "  <thead>\n",
       "    <tr style=\"text-align: right;\">\n",
       "      <th></th>\n",
       "      <th>Order ID</th>\n",
       "      <th>Product</th>\n",
       "      <th>Quantity Ordered</th>\n",
       "      <th>Price Each</th>\n",
       "      <th>Order Date</th>\n",
       "      <th>Purchase Address</th>\n",
       "    </tr>\n",
       "  </thead>\n",
       "  <tbody>\n",
       "    <tr>\n",
       "      <th>0</th>\n",
       "      <td>176558</td>\n",
       "      <td>USB-C Charging Cable</td>\n",
       "      <td>2</td>\n",
       "      <td>11.95</td>\n",
       "      <td>04/19/19 08:46</td>\n",
       "      <td>917 1st St, Dallas, TX 75001</td>\n",
       "    </tr>\n",
       "    <tr>\n",
       "      <th>1</th>\n",
       "      <td>NaN</td>\n",
       "      <td>NaN</td>\n",
       "      <td>NaN</td>\n",
       "      <td>NaN</td>\n",
       "      <td>NaN</td>\n",
       "      <td>NaN</td>\n",
       "    </tr>\n",
       "    <tr>\n",
       "      <th>2</th>\n",
       "      <td>176559</td>\n",
       "      <td>Bose SoundSport Headphones</td>\n",
       "      <td>1</td>\n",
       "      <td>99.99</td>\n",
       "      <td>04/07/19 22:30</td>\n",
       "      <td>682 Chestnut St, Boston, MA 02215</td>\n",
       "    </tr>\n",
       "    <tr>\n",
       "      <th>3</th>\n",
       "      <td>176560</td>\n",
       "      <td>Google Phone</td>\n",
       "      <td>1</td>\n",
       "      <td>600</td>\n",
       "      <td>04/12/19 14:38</td>\n",
       "      <td>669 Spruce St, Los Angeles, CA 90001</td>\n",
       "    </tr>\n",
       "    <tr>\n",
       "      <th>4</th>\n",
       "      <td>176560</td>\n",
       "      <td>Wired Headphones</td>\n",
       "      <td>1</td>\n",
       "      <td>11.99</td>\n",
       "      <td>04/12/19 14:38</td>\n",
       "      <td>669 Spruce St, Los Angeles, CA 90001</td>\n",
       "    </tr>\n",
       "  </tbody>\n",
       "</table>\n",
       "</div>"
      ],
      "text/plain": [
       "  Order ID                     Product Quantity Ordered Price Each  \\\n",
       "0   176558        USB-C Charging Cable                2      11.95   \n",
       "1      NaN                         NaN              NaN        NaN   \n",
       "2   176559  Bose SoundSport Headphones                1      99.99   \n",
       "3   176560                Google Phone                1        600   \n",
       "4   176560            Wired Headphones                1      11.99   \n",
       "\n",
       "       Order Date                      Purchase Address  \n",
       "0  04/19/19 08:46          917 1st St, Dallas, TX 75001  \n",
       "1             NaN                                   NaN  \n",
       "2  04/07/19 22:30     682 Chestnut St, Boston, MA 02215  \n",
       "3  04/12/19 14:38  669 Spruce St, Los Angeles, CA 90001  \n",
       "4  04/12/19 14:38  669 Spruce St, Los Angeles, CA 90001  "
      ]
     },
     "execution_count": 6,
     "metadata": {},
     "output_type": "execute_result"
    }
   ],
   "source": [
    "Apr_2019.head()"
   ]
  },
  {
   "cell_type": "code",
   "execution_count": 7,
   "metadata": {},
   "outputs": [
    {
     "data": {
      "text/html": [
       "<div>\n",
       "<style scoped>\n",
       "    .dataframe tbody tr th:only-of-type {\n",
       "        vertical-align: middle;\n",
       "    }\n",
       "\n",
       "    .dataframe tbody tr th {\n",
       "        vertical-align: top;\n",
       "    }\n",
       "\n",
       "    .dataframe thead th {\n",
       "        text-align: right;\n",
       "    }\n",
       "</style>\n",
       "<table border=\"1\" class=\"dataframe\">\n",
       "  <thead>\n",
       "    <tr style=\"text-align: right;\">\n",
       "      <th></th>\n",
       "      <th>Order ID</th>\n",
       "      <th>Product</th>\n",
       "      <th>Quantity Ordered</th>\n",
       "      <th>Price Each</th>\n",
       "      <th>Order Date</th>\n",
       "      <th>Purchase Address</th>\n",
       "    </tr>\n",
       "  </thead>\n",
       "  <tbody>\n",
       "    <tr>\n",
       "      <th>0</th>\n",
       "      <td>194095</td>\n",
       "      <td>Wired Headphones</td>\n",
       "      <td>1</td>\n",
       "      <td>11.99</td>\n",
       "      <td>05/16/19 17:14</td>\n",
       "      <td>669 2nd St, New York City, NY 10001</td>\n",
       "    </tr>\n",
       "    <tr>\n",
       "      <th>1</th>\n",
       "      <td>194096</td>\n",
       "      <td>AA Batteries (4-pack)</td>\n",
       "      <td>1</td>\n",
       "      <td>3.84</td>\n",
       "      <td>05/19/19 14:43</td>\n",
       "      <td>844 Walnut St, Dallas, TX 75001</td>\n",
       "    </tr>\n",
       "    <tr>\n",
       "      <th>2</th>\n",
       "      <td>194097</td>\n",
       "      <td>27in FHD Monitor</td>\n",
       "      <td>1</td>\n",
       "      <td>149.99</td>\n",
       "      <td>05/24/19 11:36</td>\n",
       "      <td>164 Madison St, New York City, NY 10001</td>\n",
       "    </tr>\n",
       "    <tr>\n",
       "      <th>3</th>\n",
       "      <td>194098</td>\n",
       "      <td>Wired Headphones</td>\n",
       "      <td>1</td>\n",
       "      <td>11.99</td>\n",
       "      <td>05/02/19 20:40</td>\n",
       "      <td>622 Meadow St, Dallas, TX 75001</td>\n",
       "    </tr>\n",
       "    <tr>\n",
       "      <th>4</th>\n",
       "      <td>194099</td>\n",
       "      <td>AAA Batteries (4-pack)</td>\n",
       "      <td>2</td>\n",
       "      <td>2.99</td>\n",
       "      <td>05/11/19 22:55</td>\n",
       "      <td>17 Church St, Seattle, WA 98101</td>\n",
       "    </tr>\n",
       "  </tbody>\n",
       "</table>\n",
       "</div>"
      ],
      "text/plain": [
       "  Order ID                 Product Quantity Ordered Price Each  \\\n",
       "0   194095        Wired Headphones                1      11.99   \n",
       "1   194096   AA Batteries (4-pack)                1       3.84   \n",
       "2   194097        27in FHD Monitor                1     149.99   \n",
       "3   194098        Wired Headphones                1      11.99   \n",
       "4   194099  AAA Batteries (4-pack)                2       2.99   \n",
       "\n",
       "       Order Date                         Purchase Address  \n",
       "0  05/16/19 17:14      669 2nd St, New York City, NY 10001  \n",
       "1  05/19/19 14:43          844 Walnut St, Dallas, TX 75001  \n",
       "2  05/24/19 11:36  164 Madison St, New York City, NY 10001  \n",
       "3  05/02/19 20:40          622 Meadow St, Dallas, TX 75001  \n",
       "4  05/11/19 22:55          17 Church St, Seattle, WA 98101  "
      ]
     },
     "execution_count": 7,
     "metadata": {},
     "output_type": "execute_result"
    }
   ],
   "source": [
    "May_2019.head()"
   ]
  },
  {
   "cell_type": "code",
   "execution_count": 8,
   "metadata": {},
   "outputs": [
    {
     "data": {
      "text/html": [
       "<div>\n",
       "<style scoped>\n",
       "    .dataframe tbody tr th:only-of-type {\n",
       "        vertical-align: middle;\n",
       "    }\n",
       "\n",
       "    .dataframe tbody tr th {\n",
       "        vertical-align: top;\n",
       "    }\n",
       "\n",
       "    .dataframe thead th {\n",
       "        text-align: right;\n",
       "    }\n",
       "</style>\n",
       "<table border=\"1\" class=\"dataframe\">\n",
       "  <thead>\n",
       "    <tr style=\"text-align: right;\">\n",
       "      <th></th>\n",
       "      <th>Order ID</th>\n",
       "      <th>Product</th>\n",
       "      <th>Quantity Ordered</th>\n",
       "      <th>Price Each</th>\n",
       "      <th>Order Date</th>\n",
       "      <th>Purchase Address</th>\n",
       "    </tr>\n",
       "  </thead>\n",
       "  <tbody>\n",
       "    <tr>\n",
       "      <th>0</th>\n",
       "      <td>209921</td>\n",
       "      <td>USB-C Charging Cable</td>\n",
       "      <td>1</td>\n",
       "      <td>11.95</td>\n",
       "      <td>06/23/19 19:34</td>\n",
       "      <td>950 Walnut St, Portland, ME 04101</td>\n",
       "    </tr>\n",
       "    <tr>\n",
       "      <th>1</th>\n",
       "      <td>209922</td>\n",
       "      <td>Macbook Pro Laptop</td>\n",
       "      <td>1</td>\n",
       "      <td>1700.0</td>\n",
       "      <td>06/30/19 10:05</td>\n",
       "      <td>80 4th St, San Francisco, CA 94016</td>\n",
       "    </tr>\n",
       "    <tr>\n",
       "      <th>2</th>\n",
       "      <td>209923</td>\n",
       "      <td>ThinkPad Laptop</td>\n",
       "      <td>1</td>\n",
       "      <td>999.99</td>\n",
       "      <td>06/24/19 20:18</td>\n",
       "      <td>402 Jackson St, Los Angeles, CA 90001</td>\n",
       "    </tr>\n",
       "    <tr>\n",
       "      <th>3</th>\n",
       "      <td>209924</td>\n",
       "      <td>27in FHD Monitor</td>\n",
       "      <td>1</td>\n",
       "      <td>149.99</td>\n",
       "      <td>06/05/19 10:21</td>\n",
       "      <td>560 10th St, Seattle, WA 98101</td>\n",
       "    </tr>\n",
       "    <tr>\n",
       "      <th>4</th>\n",
       "      <td>209925</td>\n",
       "      <td>Bose SoundSport Headphones</td>\n",
       "      <td>1</td>\n",
       "      <td>99.99</td>\n",
       "      <td>06/25/19 18:58</td>\n",
       "      <td>545 2nd St, San Francisco, CA 94016</td>\n",
       "    </tr>\n",
       "  </tbody>\n",
       "</table>\n",
       "</div>"
      ],
      "text/plain": [
       "  Order ID                     Product Quantity Ordered Price Each  \\\n",
       "0   209921        USB-C Charging Cable                1      11.95   \n",
       "1   209922          Macbook Pro Laptop                1     1700.0   \n",
       "2   209923             ThinkPad Laptop                1     999.99   \n",
       "3   209924            27in FHD Monitor                1     149.99   \n",
       "4   209925  Bose SoundSport Headphones                1      99.99   \n",
       "\n",
       "       Order Date                       Purchase Address  \n",
       "0  06/23/19 19:34      950 Walnut St, Portland, ME 04101  \n",
       "1  06/30/19 10:05     80 4th St, San Francisco, CA 94016  \n",
       "2  06/24/19 20:18  402 Jackson St, Los Angeles, CA 90001  \n",
       "3  06/05/19 10:21         560 10th St, Seattle, WA 98101  \n",
       "4  06/25/19 18:58    545 2nd St, San Francisco, CA 94016  "
      ]
     },
     "execution_count": 8,
     "metadata": {},
     "output_type": "execute_result"
    }
   ],
   "source": [
    "Jun_2019.head()"
   ]
  },
  {
   "cell_type": "code",
   "execution_count": 9,
   "metadata": {},
   "outputs": [],
   "source": [
    "#Load environment variables from .env file into a dictionary to load data 2 which is July to December 2019\n",
    "\n",
    "environment_variables=dotenv_values('.env')\n",
    "\n",
    "# Get the values for the credentials you set in the '.env' file\n",
    "database = environment_variables.get(\"database\")\n",
    "server = environment_variables.get(\"server\")\n",
    "username = environment_variables.get(\"username\")\n",
    "password = environment_variables.get(\"password\")\n",
    "\n",
    "connection_string=f\"DRIVER={{SQL Server}};SERVER={server};DATABASE={database};UID={username};PWD={password}\""
   ]
  },
  {
   "cell_type": "code",
   "execution_count": 10,
   "metadata": {},
   "outputs": [],
   "source": [
    "# Use the connect method of the pyodbc library and pass in the connection string\n",
    "\n",
    "connection=pyodbc.connect(connection_string)"
   ]
  },
  {
   "cell_type": "code",
   "execution_count": 11,
   "metadata": {},
   "outputs": [],
   "source": [
    "db_query='''SELECT * \n",
    "FROM INFORMATION_SCHEMA.TABLES\n",
    "WHERE TABLE_SCHEMA= 'dbo' '''"
   ]
  },
  {
   "cell_type": "code",
   "execution_count": 12,
   "metadata": {},
   "outputs": [
    {
     "data": {
      "text/html": [
       "<div>\n",
       "<style scoped>\n",
       "    .dataframe tbody tr th:only-of-type {\n",
       "        vertical-align: middle;\n",
       "    }\n",
       "\n",
       "    .dataframe tbody tr th {\n",
       "        vertical-align: top;\n",
       "    }\n",
       "\n",
       "    .dataframe thead th {\n",
       "        text-align: right;\n",
       "    }\n",
       "</style>\n",
       "<table border=\"1\" class=\"dataframe\">\n",
       "  <thead>\n",
       "    <tr style=\"text-align: right;\">\n",
       "      <th></th>\n",
       "      <th>TABLE_CATALOG</th>\n",
       "      <th>TABLE_SCHEMA</th>\n",
       "      <th>TABLE_NAME</th>\n",
       "      <th>TABLE_TYPE</th>\n",
       "    </tr>\n",
       "  </thead>\n",
       "  <tbody>\n",
       "    <tr>\n",
       "      <th>0</th>\n",
       "      <td>dapDB</td>\n",
       "      <td>dbo</td>\n",
       "      <td>Sales_July_2019</td>\n",
       "      <td>BASE TABLE</td>\n",
       "    </tr>\n",
       "    <tr>\n",
       "      <th>1</th>\n",
       "      <td>dapDB</td>\n",
       "      <td>dbo</td>\n",
       "      <td>Sales_August_2019</td>\n",
       "      <td>BASE TABLE</td>\n",
       "    </tr>\n",
       "    <tr>\n",
       "      <th>2</th>\n",
       "      <td>dapDB</td>\n",
       "      <td>dbo</td>\n",
       "      <td>Sales_September_2019</td>\n",
       "      <td>BASE TABLE</td>\n",
       "    </tr>\n",
       "    <tr>\n",
       "      <th>3</th>\n",
       "      <td>dapDB</td>\n",
       "      <td>dbo</td>\n",
       "      <td>Sales_October_2019</td>\n",
       "      <td>BASE TABLE</td>\n",
       "    </tr>\n",
       "    <tr>\n",
       "      <th>4</th>\n",
       "      <td>dapDB</td>\n",
       "      <td>dbo</td>\n",
       "      <td>Sales_November_2019</td>\n",
       "      <td>BASE TABLE</td>\n",
       "    </tr>\n",
       "    <tr>\n",
       "      <th>5</th>\n",
       "      <td>dapDB</td>\n",
       "      <td>dbo</td>\n",
       "      <td>Sales_December_2019</td>\n",
       "      <td>BASE TABLE</td>\n",
       "    </tr>\n",
       "  </tbody>\n",
       "</table>\n",
       "</div>"
      ],
      "text/plain": [
       "  TABLE_CATALOG TABLE_SCHEMA            TABLE_NAME  TABLE_TYPE\n",
       "0         dapDB          dbo       Sales_July_2019  BASE TABLE\n",
       "1         dapDB          dbo     Sales_August_2019  BASE TABLE\n",
       "2         dapDB          dbo  Sales_September_2019  BASE TABLE\n",
       "3         dapDB          dbo    Sales_October_2019  BASE TABLE\n",
       "4         dapDB          dbo   Sales_November_2019  BASE TABLE\n",
       "5         dapDB          dbo   Sales_December_2019  BASE TABLE"
      ]
     },
     "execution_count": 12,
     "metadata": {},
     "output_type": "execute_result"
    }
   ],
   "source": [
    "#July to December 2019 data\n",
    "\n",
    "data_2= pd.read_sql(db_query, connection)\n",
    "data_2"
   ]
  },
  {
   "cell_type": "code",
   "execution_count": 13,
   "metadata": {},
   "outputs": [],
   "source": [
    "#Loading July_2019\n",
    "\n",
    "query = \"SELECT * FROM dbo.Sales_July_2019\"\n",
    "Jul_2019 = pd.read_sql(query, connection)\n",
    "\n",
    "\n",
    "#Loading Aug_2019 \n",
    "\n",
    "query = \"SELECT * FROM dbo.Sales_August_2019\"\n",
    "Aug_2019 = pd.read_sql(query, connection)\n",
    "\n",
    "\n",
    "#Loading Sep_2019 \n",
    "\n",
    "query = \"SELECT * FROM dbo.Sales_September_2019\"\n",
    "Sep_2019 = pd.read_sql(query, connection)\n",
    "\n",
    "\n",
    "#Loading Oct_2019 \n",
    "\n",
    "query = \"SELECT * FROM dbo.Sales_October_2019\"\n",
    "Oct_2019 = pd.read_sql(query, connection)\n",
    "\n",
    "\n",
    "#Loading Nov_2019 \n",
    "\n",
    "query = \"SELECT * FROM dbo.Sales_November_2019\"\n",
    "Nov_2019 = pd.read_sql(query, connection)\n",
    "\n",
    "\n",
    "#Loading Dec_2019 \n",
    "query = \"SELECT * FROM dbo.Sales_December_2019\"\n",
    "\n",
    "Dec_2019 = pd.read_sql(query, connection)"
   ]
  },
  {
   "cell_type": "code",
   "execution_count": 14,
   "metadata": {},
   "outputs": [
    {
     "data": {
      "text/html": [
       "<div>\n",
       "<style scoped>\n",
       "    .dataframe tbody tr th:only-of-type {\n",
       "        vertical-align: middle;\n",
       "    }\n",
       "\n",
       "    .dataframe tbody tr th {\n",
       "        vertical-align: top;\n",
       "    }\n",
       "\n",
       "    .dataframe thead th {\n",
       "        text-align: right;\n",
       "    }\n",
       "</style>\n",
       "<table border=\"1\" class=\"dataframe\">\n",
       "  <thead>\n",
       "    <tr style=\"text-align: right;\">\n",
       "      <th></th>\n",
       "      <th>Order_ID</th>\n",
       "      <th>Product</th>\n",
       "      <th>Quantity_Ordered</th>\n",
       "      <th>Price_Each</th>\n",
       "      <th>Order_Date</th>\n",
       "      <th>Purchase_Address</th>\n",
       "    </tr>\n",
       "  </thead>\n",
       "  <tbody>\n",
       "    <tr>\n",
       "      <th>0</th>\n",
       "      <td>222910.0</td>\n",
       "      <td>Apple Airpods Headphones</td>\n",
       "      <td>1.0</td>\n",
       "      <td>150.00</td>\n",
       "      <td>2026-07-19 16:51:00.0000000</td>\n",
       "      <td>389 South St, Atlanta, GA 30301</td>\n",
       "    </tr>\n",
       "    <tr>\n",
       "      <th>1</th>\n",
       "      <td>222911.0</td>\n",
       "      <td>Flatscreen TV</td>\n",
       "      <td>1.0</td>\n",
       "      <td>300.00</td>\n",
       "      <td>2005-07-19 08:55:00.0000000</td>\n",
       "      <td>590 4th St, Seattle, WA 98101</td>\n",
       "    </tr>\n",
       "    <tr>\n",
       "      <th>2</th>\n",
       "      <td>222912.0</td>\n",
       "      <td>AA Batteries (4-pack)</td>\n",
       "      <td>1.0</td>\n",
       "      <td>3.84</td>\n",
       "      <td>2029-07-19 12:41:00.0000000</td>\n",
       "      <td>861 Hill St, Atlanta, GA 30301</td>\n",
       "    </tr>\n",
       "    <tr>\n",
       "      <th>3</th>\n",
       "      <td>222913.0</td>\n",
       "      <td>AA Batteries (4-pack)</td>\n",
       "      <td>1.0</td>\n",
       "      <td>3.84</td>\n",
       "      <td>2028-07-19 10:15:00.0000000</td>\n",
       "      <td>190 Ridge St, Atlanta, GA 30301</td>\n",
       "    </tr>\n",
       "    <tr>\n",
       "      <th>4</th>\n",
       "      <td>222914.0</td>\n",
       "      <td>AAA Batteries (4-pack)</td>\n",
       "      <td>5.0</td>\n",
       "      <td>2.99</td>\n",
       "      <td>2031-07-19 02:13:00.0000000</td>\n",
       "      <td>824 Forest St, Seattle, WA 98101</td>\n",
       "    </tr>\n",
       "  </tbody>\n",
       "</table>\n",
       "</div>"
      ],
      "text/plain": [
       "   Order_ID                   Product  Quantity_Ordered  Price_Each  \\\n",
       "0  222910.0  Apple Airpods Headphones               1.0      150.00   \n",
       "1  222911.0             Flatscreen TV               1.0      300.00   \n",
       "2  222912.0     AA Batteries (4-pack)               1.0        3.84   \n",
       "3  222913.0     AA Batteries (4-pack)               1.0        3.84   \n",
       "4  222914.0    AAA Batteries (4-pack)               5.0        2.99   \n",
       "\n",
       "                    Order_Date                  Purchase_Address  \n",
       "0  2026-07-19 16:51:00.0000000   389 South St, Atlanta, GA 30301  \n",
       "1  2005-07-19 08:55:00.0000000     590 4th St, Seattle, WA 98101  \n",
       "2  2029-07-19 12:41:00.0000000    861 Hill St, Atlanta, GA 30301  \n",
       "3  2028-07-19 10:15:00.0000000   190 Ridge St, Atlanta, GA 30301  \n",
       "4  2031-07-19 02:13:00.0000000  824 Forest St, Seattle, WA 98101  "
      ]
     },
     "execution_count": 14,
     "metadata": {},
     "output_type": "execute_result"
    }
   ],
   "source": [
    "Jul_2019.head()"
   ]
  },
  {
   "cell_type": "code",
   "execution_count": 15,
   "metadata": {},
   "outputs": [
    {
     "data": {
      "text/html": [
       "<div>\n",
       "<style scoped>\n",
       "    .dataframe tbody tr th:only-of-type {\n",
       "        vertical-align: middle;\n",
       "    }\n",
       "\n",
       "    .dataframe tbody tr th {\n",
       "        vertical-align: top;\n",
       "    }\n",
       "\n",
       "    .dataframe thead th {\n",
       "        text-align: right;\n",
       "    }\n",
       "</style>\n",
       "<table border=\"1\" class=\"dataframe\">\n",
       "  <thead>\n",
       "    <tr style=\"text-align: right;\">\n",
       "      <th></th>\n",
       "      <th>Order_ID</th>\n",
       "      <th>Product</th>\n",
       "      <th>Quantity_Ordered</th>\n",
       "      <th>Price_Each</th>\n",
       "      <th>Order_Date</th>\n",
       "      <th>Purchase_Address</th>\n",
       "    </tr>\n",
       "  </thead>\n",
       "  <tbody>\n",
       "    <tr>\n",
       "      <th>0</th>\n",
       "      <td>236670.0</td>\n",
       "      <td>Wired Headphones</td>\n",
       "      <td>2.0</td>\n",
       "      <td>11.990000</td>\n",
       "      <td>2031-08-19 22:21:00.0000000</td>\n",
       "      <td>359 Spruce St, Seattle, WA 98101</td>\n",
       "    </tr>\n",
       "    <tr>\n",
       "      <th>1</th>\n",
       "      <td>236671.0</td>\n",
       "      <td>Bose SoundSport Headphones</td>\n",
       "      <td>1.0</td>\n",
       "      <td>99.989998</td>\n",
       "      <td>2015-08-19 15:11:00.0000000</td>\n",
       "      <td>492 Ridge St, Dallas, TX 75001</td>\n",
       "    </tr>\n",
       "    <tr>\n",
       "      <th>2</th>\n",
       "      <td>236672.0</td>\n",
       "      <td>iPhone</td>\n",
       "      <td>1.0</td>\n",
       "      <td>700.000000</td>\n",
       "      <td>2006-08-19 14:40:00.0000000</td>\n",
       "      <td>149 7th St, Portland, OR 97035</td>\n",
       "    </tr>\n",
       "    <tr>\n",
       "      <th>3</th>\n",
       "      <td>236673.0</td>\n",
       "      <td>AA Batteries (4-pack)</td>\n",
       "      <td>2.0</td>\n",
       "      <td>3.840000</td>\n",
       "      <td>2029-08-19 20:59:00.0000000</td>\n",
       "      <td>631 2nd St, Los Angeles, CA 90001</td>\n",
       "    </tr>\n",
       "    <tr>\n",
       "      <th>4</th>\n",
       "      <td>236674.0</td>\n",
       "      <td>AA Batteries (4-pack)</td>\n",
       "      <td>2.0</td>\n",
       "      <td>3.840000</td>\n",
       "      <td>2015-08-19 19:53:00.0000000</td>\n",
       "      <td>736 14th St, New York City, NY 10001</td>\n",
       "    </tr>\n",
       "  </tbody>\n",
       "</table>\n",
       "</div>"
      ],
      "text/plain": [
       "   Order_ID                     Product  Quantity_Ordered  Price_Each  \\\n",
       "0  236670.0            Wired Headphones               2.0   11.990000   \n",
       "1  236671.0  Bose SoundSport Headphones               1.0   99.989998   \n",
       "2  236672.0                      iPhone               1.0  700.000000   \n",
       "3  236673.0       AA Batteries (4-pack)               2.0    3.840000   \n",
       "4  236674.0       AA Batteries (4-pack)               2.0    3.840000   \n",
       "\n",
       "                    Order_Date                      Purchase_Address  \n",
       "0  2031-08-19 22:21:00.0000000      359 Spruce St, Seattle, WA 98101  \n",
       "1  2015-08-19 15:11:00.0000000        492 Ridge St, Dallas, TX 75001  \n",
       "2  2006-08-19 14:40:00.0000000        149 7th St, Portland, OR 97035  \n",
       "3  2029-08-19 20:59:00.0000000     631 2nd St, Los Angeles, CA 90001  \n",
       "4  2015-08-19 19:53:00.0000000  736 14th St, New York City, NY 10001  "
      ]
     },
     "execution_count": 15,
     "metadata": {},
     "output_type": "execute_result"
    }
   ],
   "source": [
    "Aug_2019.head()"
   ]
  },
  {
   "cell_type": "code",
   "execution_count": 16,
   "metadata": {},
   "outputs": [
    {
     "data": {
      "text/html": [
       "<div>\n",
       "<style scoped>\n",
       "    .dataframe tbody tr th:only-of-type {\n",
       "        vertical-align: middle;\n",
       "    }\n",
       "\n",
       "    .dataframe tbody tr th {\n",
       "        vertical-align: top;\n",
       "    }\n",
       "\n",
       "    .dataframe thead th {\n",
       "        text-align: right;\n",
       "    }\n",
       "</style>\n",
       "<table border=\"1\" class=\"dataframe\">\n",
       "  <thead>\n",
       "    <tr style=\"text-align: right;\">\n",
       "      <th></th>\n",
       "      <th>Order_ID</th>\n",
       "      <th>Product</th>\n",
       "      <th>Quantity_Ordered</th>\n",
       "      <th>Price_Each</th>\n",
       "      <th>Order_Date</th>\n",
       "      <th>Purchase_Address</th>\n",
       "    </tr>\n",
       "  </thead>\n",
       "  <tbody>\n",
       "    <tr>\n",
       "      <th>0</th>\n",
       "      <td>248151.0</td>\n",
       "      <td>AA Batteries (4-pack)</td>\n",
       "      <td>4.0</td>\n",
       "      <td>3.840000</td>\n",
       "      <td>2017-09-19 14:44:00.0000000</td>\n",
       "      <td>380 North St, Los Angeles, CA 90001</td>\n",
       "    </tr>\n",
       "    <tr>\n",
       "      <th>1</th>\n",
       "      <td>248152.0</td>\n",
       "      <td>USB-C Charging Cable</td>\n",
       "      <td>2.0</td>\n",
       "      <td>11.950000</td>\n",
       "      <td>2029-09-19 10:19:00.0000000</td>\n",
       "      <td>511 8th St, Austin, TX 73301</td>\n",
       "    </tr>\n",
       "    <tr>\n",
       "      <th>2</th>\n",
       "      <td>248153.0</td>\n",
       "      <td>USB-C Charging Cable</td>\n",
       "      <td>1.0</td>\n",
       "      <td>11.950000</td>\n",
       "      <td>2016-09-19 17:48:00.0000000</td>\n",
       "      <td>151 Johnson St, Los Angeles, CA 90001</td>\n",
       "    </tr>\n",
       "    <tr>\n",
       "      <th>3</th>\n",
       "      <td>248154.0</td>\n",
       "      <td>27in FHD Monitor</td>\n",
       "      <td>1.0</td>\n",
       "      <td>149.990005</td>\n",
       "      <td>2027-09-19 07:52:00.0000000</td>\n",
       "      <td>355 Hickory St, Seattle, WA 98101</td>\n",
       "    </tr>\n",
       "    <tr>\n",
       "      <th>4</th>\n",
       "      <td>248155.0</td>\n",
       "      <td>USB-C Charging Cable</td>\n",
       "      <td>1.0</td>\n",
       "      <td>11.950000</td>\n",
       "      <td>2001-09-19 19:03:00.0000000</td>\n",
       "      <td>125 5th St, Atlanta, GA 30301</td>\n",
       "    </tr>\n",
       "  </tbody>\n",
       "</table>\n",
       "</div>"
      ],
      "text/plain": [
       "   Order_ID                Product  Quantity_Ordered  Price_Each  \\\n",
       "0  248151.0  AA Batteries (4-pack)               4.0    3.840000   \n",
       "1  248152.0   USB-C Charging Cable               2.0   11.950000   \n",
       "2  248153.0   USB-C Charging Cable               1.0   11.950000   \n",
       "3  248154.0       27in FHD Monitor               1.0  149.990005   \n",
       "4  248155.0   USB-C Charging Cable               1.0   11.950000   \n",
       "\n",
       "                    Order_Date                       Purchase_Address  \n",
       "0  2017-09-19 14:44:00.0000000    380 North St, Los Angeles, CA 90001  \n",
       "1  2029-09-19 10:19:00.0000000           511 8th St, Austin, TX 73301  \n",
       "2  2016-09-19 17:48:00.0000000  151 Johnson St, Los Angeles, CA 90001  \n",
       "3  2027-09-19 07:52:00.0000000      355 Hickory St, Seattle, WA 98101  \n",
       "4  2001-09-19 19:03:00.0000000          125 5th St, Atlanta, GA 30301  "
      ]
     },
     "execution_count": 16,
     "metadata": {},
     "output_type": "execute_result"
    }
   ],
   "source": [
    "Sep_2019.head()"
   ]
  },
  {
   "cell_type": "code",
   "execution_count": 17,
   "metadata": {},
   "outputs": [
    {
     "data": {
      "text/html": [
       "<div>\n",
       "<style scoped>\n",
       "    .dataframe tbody tr th:only-of-type {\n",
       "        vertical-align: middle;\n",
       "    }\n",
       "\n",
       "    .dataframe tbody tr th {\n",
       "        vertical-align: top;\n",
       "    }\n",
       "\n",
       "    .dataframe thead th {\n",
       "        text-align: right;\n",
       "    }\n",
       "</style>\n",
       "<table border=\"1\" class=\"dataframe\">\n",
       "  <thead>\n",
       "    <tr style=\"text-align: right;\">\n",
       "      <th></th>\n",
       "      <th>Order_ID</th>\n",
       "      <th>Product</th>\n",
       "      <th>Quantity_Ordered</th>\n",
       "      <th>Price_Each</th>\n",
       "      <th>Order_Date</th>\n",
       "      <th>Purchase_Address</th>\n",
       "    </tr>\n",
       "  </thead>\n",
       "  <tbody>\n",
       "    <tr>\n",
       "      <th>0</th>\n",
       "      <td>259358.0</td>\n",
       "      <td>34in Ultrawide Monitor</td>\n",
       "      <td>1.0</td>\n",
       "      <td>379.989990</td>\n",
       "      <td>2028-10-19 10:56:00.0000000</td>\n",
       "      <td>609 Cherry St, Dallas, TX 75001</td>\n",
       "    </tr>\n",
       "    <tr>\n",
       "      <th>1</th>\n",
       "      <td>259359.0</td>\n",
       "      <td>27in 4K Gaming Monitor</td>\n",
       "      <td>1.0</td>\n",
       "      <td>389.989990</td>\n",
       "      <td>2028-10-19 17:26:00.0000000</td>\n",
       "      <td>225 5th St, Los Angeles, CA 90001</td>\n",
       "    </tr>\n",
       "    <tr>\n",
       "      <th>2</th>\n",
       "      <td>259360.0</td>\n",
       "      <td>AAA Batteries (4-pack)</td>\n",
       "      <td>2.0</td>\n",
       "      <td>2.990000</td>\n",
       "      <td>2024-10-19 17:20:00.0000000</td>\n",
       "      <td>967 12th St, New York City, NY 10001</td>\n",
       "    </tr>\n",
       "    <tr>\n",
       "      <th>3</th>\n",
       "      <td>259361.0</td>\n",
       "      <td>27in FHD Monitor</td>\n",
       "      <td>1.0</td>\n",
       "      <td>149.990005</td>\n",
       "      <td>2014-10-19 22:26:00.0000000</td>\n",
       "      <td>628 Jefferson St, New York City, NY 10001</td>\n",
       "    </tr>\n",
       "    <tr>\n",
       "      <th>4</th>\n",
       "      <td>259362.0</td>\n",
       "      <td>Wired Headphones</td>\n",
       "      <td>1.0</td>\n",
       "      <td>11.990000</td>\n",
       "      <td>2007-10-19 16:10:00.0000000</td>\n",
       "      <td>534 14th St, Los Angeles, CA 90001</td>\n",
       "    </tr>\n",
       "  </tbody>\n",
       "</table>\n",
       "</div>"
      ],
      "text/plain": [
       "   Order_ID                 Product  Quantity_Ordered  Price_Each  \\\n",
       "0  259358.0  34in Ultrawide Monitor               1.0  379.989990   \n",
       "1  259359.0  27in 4K Gaming Monitor               1.0  389.989990   \n",
       "2  259360.0  AAA Batteries (4-pack)               2.0    2.990000   \n",
       "3  259361.0        27in FHD Monitor               1.0  149.990005   \n",
       "4  259362.0        Wired Headphones               1.0   11.990000   \n",
       "\n",
       "                    Order_Date                           Purchase_Address  \n",
       "0  2028-10-19 10:56:00.0000000            609 Cherry St, Dallas, TX 75001  \n",
       "1  2028-10-19 17:26:00.0000000          225 5th St, Los Angeles, CA 90001  \n",
       "2  2024-10-19 17:20:00.0000000       967 12th St, New York City, NY 10001  \n",
       "3  2014-10-19 22:26:00.0000000  628 Jefferson St, New York City, NY 10001  \n",
       "4  2007-10-19 16:10:00.0000000         534 14th St, Los Angeles, CA 90001  "
      ]
     },
     "execution_count": 17,
     "metadata": {},
     "output_type": "execute_result"
    }
   ],
   "source": [
    "Oct_2019.head()"
   ]
  },
  {
   "cell_type": "code",
   "execution_count": 18,
   "metadata": {},
   "outputs": [
    {
     "data": {
      "text/html": [
       "<div>\n",
       "<style scoped>\n",
       "    .dataframe tbody tr th:only-of-type {\n",
       "        vertical-align: middle;\n",
       "    }\n",
       "\n",
       "    .dataframe tbody tr th {\n",
       "        vertical-align: top;\n",
       "    }\n",
       "\n",
       "    .dataframe thead th {\n",
       "        text-align: right;\n",
       "    }\n",
       "</style>\n",
       "<table border=\"1\" class=\"dataframe\">\n",
       "  <thead>\n",
       "    <tr style=\"text-align: right;\">\n",
       "      <th></th>\n",
       "      <th>Order_ID</th>\n",
       "      <th>Product</th>\n",
       "      <th>Quantity_Ordered</th>\n",
       "      <th>Price_Each</th>\n",
       "      <th>Order_Date</th>\n",
       "      <th>Purchase_Address</th>\n",
       "    </tr>\n",
       "  </thead>\n",
       "  <tbody>\n",
       "    <tr>\n",
       "      <th>0</th>\n",
       "      <td>278797.0</td>\n",
       "      <td>Wired Headphones</td>\n",
       "      <td>1.0</td>\n",
       "      <td>11.990000</td>\n",
       "      <td>2021-11-19 09:54:00.0000000</td>\n",
       "      <td>46 Park St, New York City, NY 10001</td>\n",
       "    </tr>\n",
       "    <tr>\n",
       "      <th>1</th>\n",
       "      <td>278798.0</td>\n",
       "      <td>USB-C Charging Cable</td>\n",
       "      <td>2.0</td>\n",
       "      <td>11.950000</td>\n",
       "      <td>2017-11-19 10:03:00.0000000</td>\n",
       "      <td>962 Hickory St, Austin, TX 73301</td>\n",
       "    </tr>\n",
       "    <tr>\n",
       "      <th>2</th>\n",
       "      <td>278799.0</td>\n",
       "      <td>Apple Airpods Headphones</td>\n",
       "      <td>1.0</td>\n",
       "      <td>150.000000</td>\n",
       "      <td>2019-11-19 14:56:00.0000000</td>\n",
       "      <td>464 Cherry St, Los Angeles, CA 90001</td>\n",
       "    </tr>\n",
       "    <tr>\n",
       "      <th>3</th>\n",
       "      <td>278800.0</td>\n",
       "      <td>27in FHD Monitor</td>\n",
       "      <td>1.0</td>\n",
       "      <td>149.990005</td>\n",
       "      <td>2025-11-19 22:24:00.0000000</td>\n",
       "      <td>649 10th St, Seattle, WA 98101</td>\n",
       "    </tr>\n",
       "    <tr>\n",
       "      <th>4</th>\n",
       "      <td>278801.0</td>\n",
       "      <td>Bose SoundSport Headphones</td>\n",
       "      <td>1.0</td>\n",
       "      <td>99.989998</td>\n",
       "      <td>2009-11-19 13:56:00.0000000</td>\n",
       "      <td>522 Hill St, Boston, MA 02215</td>\n",
       "    </tr>\n",
       "  </tbody>\n",
       "</table>\n",
       "</div>"
      ],
      "text/plain": [
       "   Order_ID                     Product  Quantity_Ordered  Price_Each  \\\n",
       "0  278797.0            Wired Headphones               1.0   11.990000   \n",
       "1  278798.0        USB-C Charging Cable               2.0   11.950000   \n",
       "2  278799.0    Apple Airpods Headphones               1.0  150.000000   \n",
       "3  278800.0            27in FHD Monitor               1.0  149.990005   \n",
       "4  278801.0  Bose SoundSport Headphones               1.0   99.989998   \n",
       "\n",
       "                    Order_Date                      Purchase_Address  \n",
       "0  2021-11-19 09:54:00.0000000   46 Park St, New York City, NY 10001  \n",
       "1  2017-11-19 10:03:00.0000000      962 Hickory St, Austin, TX 73301  \n",
       "2  2019-11-19 14:56:00.0000000  464 Cherry St, Los Angeles, CA 90001  \n",
       "3  2025-11-19 22:24:00.0000000        649 10th St, Seattle, WA 98101  \n",
       "4  2009-11-19 13:56:00.0000000         522 Hill St, Boston, MA 02215  "
      ]
     },
     "execution_count": 18,
     "metadata": {},
     "output_type": "execute_result"
    }
   ],
   "source": [
    "Nov_2019.head()"
   ]
  },
  {
   "cell_type": "code",
   "execution_count": 19,
   "metadata": {},
   "outputs": [
    {
     "data": {
      "text/html": [
       "<div>\n",
       "<style scoped>\n",
       "    .dataframe tbody tr th:only-of-type {\n",
       "        vertical-align: middle;\n",
       "    }\n",
       "\n",
       "    .dataframe tbody tr th {\n",
       "        vertical-align: top;\n",
       "    }\n",
       "\n",
       "    .dataframe thead th {\n",
       "        text-align: right;\n",
       "    }\n",
       "</style>\n",
       "<table border=\"1\" class=\"dataframe\">\n",
       "  <thead>\n",
       "    <tr style=\"text-align: right;\">\n",
       "      <th></th>\n",
       "      <th>Order_ID</th>\n",
       "      <th>Product</th>\n",
       "      <th>Quantity_Ordered</th>\n",
       "      <th>Price_Each</th>\n",
       "      <th>Order_Date</th>\n",
       "      <th>Purchase_Address</th>\n",
       "    </tr>\n",
       "  </thead>\n",
       "  <tbody>\n",
       "    <tr>\n",
       "      <th>0</th>\n",
       "      <td>295665.0</td>\n",
       "      <td>Macbook Pro Laptop</td>\n",
       "      <td>1.0</td>\n",
       "      <td>1700.000000</td>\n",
       "      <td>2030-12-19 00:01:00.0000000</td>\n",
       "      <td>136 Church St, New York City, NY 10001</td>\n",
       "    </tr>\n",
       "    <tr>\n",
       "      <th>1</th>\n",
       "      <td>295666.0</td>\n",
       "      <td>LG Washing Machine</td>\n",
       "      <td>1.0</td>\n",
       "      <td>600.000000</td>\n",
       "      <td>2029-12-19 07:03:00.0000000</td>\n",
       "      <td>562 2nd St, New York City, NY 10001</td>\n",
       "    </tr>\n",
       "    <tr>\n",
       "      <th>2</th>\n",
       "      <td>295667.0</td>\n",
       "      <td>USB-C Charging Cable</td>\n",
       "      <td>1.0</td>\n",
       "      <td>11.950000</td>\n",
       "      <td>2012-12-19 18:21:00.0000000</td>\n",
       "      <td>277 Main St, New York City, NY 10001</td>\n",
       "    </tr>\n",
       "    <tr>\n",
       "      <th>3</th>\n",
       "      <td>295668.0</td>\n",
       "      <td>27in FHD Monitor</td>\n",
       "      <td>1.0</td>\n",
       "      <td>149.990005</td>\n",
       "      <td>2022-12-19 15:13:00.0000000</td>\n",
       "      <td>410 6th St, San Francisco, CA 94016</td>\n",
       "    </tr>\n",
       "    <tr>\n",
       "      <th>4</th>\n",
       "      <td>295669.0</td>\n",
       "      <td>USB-C Charging Cable</td>\n",
       "      <td>1.0</td>\n",
       "      <td>11.950000</td>\n",
       "      <td>2018-12-19 12:38:00.0000000</td>\n",
       "      <td>43 Hill St, Atlanta, GA 30301</td>\n",
       "    </tr>\n",
       "  </tbody>\n",
       "</table>\n",
       "</div>"
      ],
      "text/plain": [
       "   Order_ID               Product  Quantity_Ordered   Price_Each  \\\n",
       "0  295665.0    Macbook Pro Laptop               1.0  1700.000000   \n",
       "1  295666.0    LG Washing Machine               1.0   600.000000   \n",
       "2  295667.0  USB-C Charging Cable               1.0    11.950000   \n",
       "3  295668.0      27in FHD Monitor               1.0   149.990005   \n",
       "4  295669.0  USB-C Charging Cable               1.0    11.950000   \n",
       "\n",
       "                    Order_Date                        Purchase_Address  \n",
       "0  2030-12-19 00:01:00.0000000  136 Church St, New York City, NY 10001  \n",
       "1  2029-12-19 07:03:00.0000000     562 2nd St, New York City, NY 10001  \n",
       "2  2012-12-19 18:21:00.0000000    277 Main St, New York City, NY 10001  \n",
       "3  2022-12-19 15:13:00.0000000     410 6th St, San Francisco, CA 94016  \n",
       "4  2018-12-19 12:38:00.0000000           43 Hill St, Atlanta, GA 30301  "
      ]
     },
     "execution_count": 19,
     "metadata": {},
     "output_type": "execute_result"
    }
   ],
   "source": [
    "Dec_2019.head()"
   ]
  },
  {
   "cell_type": "markdown",
   "metadata": {},
   "source": [
    "#### **Concatenate all the first half to second half 2019-Months**"
   ]
  },
  {
   "cell_type": "code",
   "execution_count": 20,
   "metadata": {},
   "outputs": [],
   "source": [
    "# Rename the columns\n",
    "Jan_2019.rename(columns={'Order ID': 'Order_ID', 'Product Name': 'Product', 'Quantity Ordered': 'Quantity_Ordered', 'Price Each': 'Price_Each', 'Order Date': 'Order_Date', 'Purchase Address': 'Purchase_Address'}, inplace=True)\n",
    "Feb_2019.rename(columns={'Order ID': 'Order_ID', 'Product Name': 'Product', 'Quantity Ordered': 'Quantity_Ordered', 'Price Each': 'Price_Each', 'Order Date': 'Order_Date', 'Purchase Address': 'Purchase_Address'}, inplace=True)\n",
    "Mar_2019.rename(columns={'Order ID': 'Order_ID', 'Product Name': 'Product', 'Quantity Ordered': 'Quantity_Ordered', 'Price Each': 'Price_Each', 'Order Date': 'Order_Date', 'Purchase Address': 'Purchase_Address'}, inplace=True)\n",
    "Apr_2019.rename(columns={'Order ID': 'Order_ID', 'Product Name': 'Product', 'Quantity Ordered': 'Quantity_Ordered', 'Price Each': 'Price_Each', 'Order Date': 'Order_Date', 'Purchase Address': 'Purchase_Address'}, inplace=True)\n",
    "May_2019.rename(columns={'Order ID': 'Order_ID', 'Product Name': 'Product', 'Quantity Ordered': 'Quantity_Ordered', 'Price Each': 'Price_Each', 'Order Date': 'Order_Date', 'Purchase Address': 'Purchase_Address'}, inplace=True)\n",
    "Jun_2019.rename(columns={'Order ID': 'Order_ID', 'Product Name': 'Product', 'Quantity Ordered': 'Quantity_Ordered', 'Price Each': 'Price_Each', 'Order Date': 'Order_Date', 'Purchase Address': 'Purchase_Address'}, inplace=True)"
   ]
  },
  {
   "cell_type": "code",
   "execution_count": 21,
   "metadata": {},
   "outputs": [
    {
     "data": {
      "text/html": [
       "<div>\n",
       "<style scoped>\n",
       "    .dataframe tbody tr th:only-of-type {\n",
       "        vertical-align: middle;\n",
       "    }\n",
       "\n",
       "    .dataframe tbody tr th {\n",
       "        vertical-align: top;\n",
       "    }\n",
       "\n",
       "    .dataframe thead th {\n",
       "        text-align: right;\n",
       "    }\n",
       "</style>\n",
       "<table border=\"1\" class=\"dataframe\">\n",
       "  <thead>\n",
       "    <tr style=\"text-align: right;\">\n",
       "      <th></th>\n",
       "      <th>Order_ID</th>\n",
       "      <th>Product</th>\n",
       "      <th>Quantity_Ordered</th>\n",
       "      <th>Price_Each</th>\n",
       "      <th>Order_Date</th>\n",
       "      <th>Purchase_Address</th>\n",
       "    </tr>\n",
       "  </thead>\n",
       "  <tbody>\n",
       "    <tr>\n",
       "      <th>0</th>\n",
       "      <td>141234</td>\n",
       "      <td>iPhone</td>\n",
       "      <td>1</td>\n",
       "      <td>700</td>\n",
       "      <td>01/22/19 21:25</td>\n",
       "      <td>944 Walnut St, Boston, MA 02215</td>\n",
       "    </tr>\n",
       "    <tr>\n",
       "      <th>1</th>\n",
       "      <td>141235</td>\n",
       "      <td>Lightning Charging Cable</td>\n",
       "      <td>1</td>\n",
       "      <td>14.95</td>\n",
       "      <td>01/28/19 14:15</td>\n",
       "      <td>185 Maple St, Portland, OR 97035</td>\n",
       "    </tr>\n",
       "    <tr>\n",
       "      <th>2</th>\n",
       "      <td>141236</td>\n",
       "      <td>Wired Headphones</td>\n",
       "      <td>2</td>\n",
       "      <td>11.99</td>\n",
       "      <td>01/17/19 13:33</td>\n",
       "      <td>538 Adams St, San Francisco, CA 94016</td>\n",
       "    </tr>\n",
       "    <tr>\n",
       "      <th>3</th>\n",
       "      <td>141237</td>\n",
       "      <td>27in FHD Monitor</td>\n",
       "      <td>1</td>\n",
       "      <td>149.99</td>\n",
       "      <td>01/05/19 20:33</td>\n",
       "      <td>738 10th St, Los Angeles, CA 90001</td>\n",
       "    </tr>\n",
       "    <tr>\n",
       "      <th>4</th>\n",
       "      <td>141238</td>\n",
       "      <td>Wired Headphones</td>\n",
       "      <td>1</td>\n",
       "      <td>11.99</td>\n",
       "      <td>01/25/19 11:59</td>\n",
       "      <td>387 10th St, Austin, TX 73301</td>\n",
       "    </tr>\n",
       "  </tbody>\n",
       "</table>\n",
       "</div>"
      ],
      "text/plain": [
       "  Order_ID                   Product Quantity_Ordered Price_Each  \\\n",
       "0   141234                    iPhone                1        700   \n",
       "1   141235  Lightning Charging Cable                1      14.95   \n",
       "2   141236          Wired Headphones                2      11.99   \n",
       "3   141237          27in FHD Monitor                1     149.99   \n",
       "4   141238          Wired Headphones                1      11.99   \n",
       "\n",
       "       Order_Date                       Purchase_Address  \n",
       "0  01/22/19 21:25        944 Walnut St, Boston, MA 02215  \n",
       "1  01/28/19 14:15       185 Maple St, Portland, OR 97035  \n",
       "2  01/17/19 13:33  538 Adams St, San Francisco, CA 94016  \n",
       "3  01/05/19 20:33     738 10th St, Los Angeles, CA 90001  \n",
       "4  01/25/19 11:59          387 10th St, Austin, TX 73301  "
      ]
     },
     "execution_count": 21,
     "metadata": {},
     "output_type": "execute_result"
    }
   ],
   "source": [
    "# Combine all datasets by column names\n",
    "Sales_2019= pd.concat([Jan_2019, Feb_2019, Mar_2019, Apr_2019, May_2019, Jun_2019, Jul_2019, Aug_2019, Sep_2019, Oct_2019, Nov_2019, Dec_2019])\n",
    "Sales_2019.head()"
   ]
  },
  {
   "cell_type": "markdown",
   "metadata": {},
   "source": [
    "### **Expolatory Data Analysis**"
   ]
  },
  {
   "cell_type": "markdown",
   "metadata": {},
   "source": [
    "**EDA Methods**"
   ]
  },
  {
   "cell_type": "code",
   "execution_count": 22,
   "metadata": {},
   "outputs": [
    {
     "data": {
      "text/plain": [
       "(186850, 6)"
      ]
     },
     "execution_count": 22,
     "metadata": {},
     "output_type": "execute_result"
    }
   ],
   "source": [
    "Sales_2019.shape"
   ]
  },
  {
   "cell_type": "code",
   "execution_count": 23,
   "metadata": {},
   "outputs": [
    {
     "name": "stdout",
     "output_type": "stream",
     "text": [
      "<class 'pandas.core.frame.DataFrame'>\n",
      "Index: 186850 entries, 0 to 25116\n",
      "Data columns (total 6 columns):\n",
      " #   Column            Non-Null Count   Dtype \n",
      "---  ------            --------------   ----- \n",
      " 0   Order_ID          186110 non-null  object\n",
      " 1   Product           186305 non-null  object\n",
      " 2   Quantity_Ordered  186110 non-null  object\n",
      " 3   Price_Each        186110 non-null  object\n",
      " 4   Order_Date        186110 non-null  object\n",
      " 5   Purchase_Address  186305 non-null  object\n",
      "dtypes: object(6)\n",
      "memory usage: 10.0+ MB\n"
     ]
    }
   ],
   "source": [
    "Sales_2019.info()"
   ]
  },
  {
   "cell_type": "code",
   "execution_count": 24,
   "metadata": {},
   "outputs": [
    {
     "data": {
      "text/plain": [
       "Order_ID            178438\n",
       "Product                 20\n",
       "Quantity_Ordered        18\n",
       "Price_Each              40\n",
       "Order_Date          142396\n",
       "Purchase_Address    140788\n",
       "dtype: int64"
      ]
     },
     "execution_count": 24,
     "metadata": {},
     "output_type": "execute_result"
    }
   ],
   "source": [
    "Sales_2019.nunique()"
   ]
  },
  {
   "cell_type": "code",
   "execution_count": 25,
   "metadata": {},
   "outputs": [
    {
     "data": {
      "text/html": [
       "<div>\n",
       "<style scoped>\n",
       "    .dataframe tbody tr th:only-of-type {\n",
       "        vertical-align: middle;\n",
       "    }\n",
       "\n",
       "    .dataframe tbody tr th {\n",
       "        vertical-align: top;\n",
       "    }\n",
       "\n",
       "    .dataframe thead th {\n",
       "        text-align: right;\n",
       "    }\n",
       "</style>\n",
       "<table border=\"1\" class=\"dataframe\">\n",
       "  <thead>\n",
       "    <tr style=\"text-align: right;\">\n",
       "      <th></th>\n",
       "      <th>count</th>\n",
       "      <th>unique</th>\n",
       "      <th>top</th>\n",
       "      <th>freq</th>\n",
       "    </tr>\n",
       "  </thead>\n",
       "  <tbody>\n",
       "    <tr>\n",
       "      <th>Order_ID</th>\n",
       "      <td>186110</td>\n",
       "      <td>178438</td>\n",
       "      <td>Order ID</td>\n",
       "      <td>160</td>\n",
       "    </tr>\n",
       "    <tr>\n",
       "      <th>Product</th>\n",
       "      <td>186305</td>\n",
       "      <td>20</td>\n",
       "      <td>USB-C Charging Cable</td>\n",
       "      <td>21903</td>\n",
       "    </tr>\n",
       "    <tr>\n",
       "      <th>Quantity_Ordered</th>\n",
       "      <td>186110.0</td>\n",
       "      <td>18.0</td>\n",
       "      <td>1.0</td>\n",
       "      <td>91347.0</td>\n",
       "    </tr>\n",
       "    <tr>\n",
       "      <th>Price_Each</th>\n",
       "      <td>186110.0</td>\n",
       "      <td>40.0</td>\n",
       "      <td>11.95</td>\n",
       "      <td>11951.0</td>\n",
       "    </tr>\n",
       "    <tr>\n",
       "      <th>Order_Date</th>\n",
       "      <td>186110</td>\n",
       "      <td>142396</td>\n",
       "      <td>Order Date</td>\n",
       "      <td>160</td>\n",
       "    </tr>\n",
       "    <tr>\n",
       "      <th>Purchase_Address</th>\n",
       "      <td>186305</td>\n",
       "      <td>140788</td>\n",
       "      <td>Purchase Address</td>\n",
       "      <td>355</td>\n",
       "    </tr>\n",
       "  </tbody>\n",
       "</table>\n",
       "</div>"
      ],
      "text/plain": [
       "                     count  unique                   top     freq\n",
       "Order_ID            186110  178438              Order ID      160\n",
       "Product             186305      20  USB-C Charging Cable    21903\n",
       "Quantity_Ordered  186110.0    18.0                   1.0  91347.0\n",
       "Price_Each        186110.0    40.0                 11.95  11951.0\n",
       "Order_Date          186110  142396            Order Date      160\n",
       "Purchase_Address    186305  140788      Purchase Address      355"
      ]
     },
     "execution_count": 25,
     "metadata": {},
     "output_type": "execute_result"
    }
   ],
   "source": [
    "# Summary Statistics for Sales_2019\n",
    "\n",
    "Sales_2019.describe().T"
   ]
  },
  {
   "cell_type": "code",
   "execution_count": 26,
   "metadata": {},
   "outputs": [
    {
     "data": {
      "text/plain": [
       "np.int64(1161)"
      ]
     },
     "execution_count": 26,
     "metadata": {},
     "output_type": "execute_result"
    }
   ],
   "source": [
    "Sales_2019.duplicated().sum()"
   ]
  },
  {
   "cell_type": "code",
   "execution_count": 27,
   "metadata": {},
   "outputs": [
    {
     "data": {
      "text/plain": [
       "Order_ID            740\n",
       "Product             545\n",
       "Quantity_Ordered    740\n",
       "Price_Each          740\n",
       "Order_Date          740\n",
       "Purchase_Address    545\n",
       "dtype: int64"
      ]
     },
     "execution_count": 27,
     "metadata": {},
     "output_type": "execute_result"
    }
   ],
   "source": [
    "\n",
    "Sales_2019.isnull().sum()"
   ]
  },
  {
   "cell_type": "markdown",
   "metadata": {},
   "source": [
    "Observations\n",
    "\n",
    "The output shows that the Sales_2019 dataset is a pandas DataFrame with 186,850 entries and 6 columns. The columns in the dataset are Order_ID, Product, Quantity_Ordered, Price_Each, Order_Date and Purchase_Address. The data types of all columns are object, indicating that the values in these columns are strings.\n",
    "\n",
    "The dataset has a total of 86,850 entries and 186,110 non-null entries).\n",
    "\n",
    "This shows the number of unique values in each column. This information can be useful for understanding the diversity of values in each column and identifying any potential patterns or trends.:\n",
    "\n",
    "- Order_ID: There are 178,438 unique values.\n",
    "- Product: There are 20 unique values.\n",
    "- Quantity_Ordered: There are 18 unique values.\n",
    "- Price_Each: There are 40 unique values.\n",
    "- Order_Date: There are 14,239 unique values.\n",
    "- Purchase_Address: There are 14,078 unique values."
   ]
  },
  {
   "cell_type": "markdown",
   "metadata": {},
   "source": [
    "## **Data Preparation**"
   ]
  },
  {
   "cell_type": "markdown",
   "metadata": {},
   "source": [
    " Handling duplicates "
   ]
  },
  {
   "cell_type": "code",
   "execution_count": 28,
   "metadata": {},
   "outputs": [
    {
     "data": {
      "text/html": [
       "<div>\n",
       "<style scoped>\n",
       "    .dataframe tbody tr th:only-of-type {\n",
       "        vertical-align: middle;\n",
       "    }\n",
       "\n",
       "    .dataframe tbody tr th {\n",
       "        vertical-align: top;\n",
       "    }\n",
       "\n",
       "    .dataframe thead th {\n",
       "        text-align: right;\n",
       "    }\n",
       "</style>\n",
       "<table border=\"1\" class=\"dataframe\">\n",
       "  <thead>\n",
       "    <tr style=\"text-align: right;\">\n",
       "      <th></th>\n",
       "      <th>Order_ID</th>\n",
       "      <th>Product</th>\n",
       "      <th>Quantity_Ordered</th>\n",
       "      <th>Price_Each</th>\n",
       "      <th>Order_Date</th>\n",
       "      <th>Purchase_Address</th>\n",
       "    </tr>\n",
       "  </thead>\n",
       "  <tbody>\n",
       "    <tr>\n",
       "      <th>664</th>\n",
       "      <td>NaN</td>\n",
       "      <td>NaN</td>\n",
       "      <td>NaN</td>\n",
       "      <td>NaN</td>\n",
       "      <td>NaN</td>\n",
       "      <td>NaN</td>\n",
       "    </tr>\n",
       "    <tr>\n",
       "      <th>678</th>\n",
       "      <td>NaN</td>\n",
       "      <td>NaN</td>\n",
       "      <td>NaN</td>\n",
       "      <td>NaN</td>\n",
       "      <td>NaN</td>\n",
       "      <td>NaN</td>\n",
       "    </tr>\n",
       "    <tr>\n",
       "      <th>797</th>\n",
       "      <td>NaN</td>\n",
       "      <td>NaN</td>\n",
       "      <td>NaN</td>\n",
       "      <td>NaN</td>\n",
       "      <td>NaN</td>\n",
       "      <td>NaN</td>\n",
       "    </tr>\n",
       "    <tr>\n",
       "      <th>874</th>\n",
       "      <td>142071</td>\n",
       "      <td>AA Batteries (4-pack)</td>\n",
       "      <td>1</td>\n",
       "      <td>3.84</td>\n",
       "      <td>01/17/19 23:02</td>\n",
       "      <td>131 2nd St, Boston, MA 02215</td>\n",
       "    </tr>\n",
       "    <tr>\n",
       "      <th>875</th>\n",
       "      <td>142071</td>\n",
       "      <td>AA Batteries (4-pack)</td>\n",
       "      <td>1</td>\n",
       "      <td>3.84</td>\n",
       "      <td>01/17/19 23:02</td>\n",
       "      <td>131 2nd St, Boston, MA 02215</td>\n",
       "    </tr>\n",
       "  </tbody>\n",
       "</table>\n",
       "</div>"
      ],
      "text/plain": [
       "    Order_ID                Product Quantity_Ordered Price_Each  \\\n",
       "664      NaN                    NaN              NaN        NaN   \n",
       "678      NaN                    NaN              NaN        NaN   \n",
       "797      NaN                    NaN              NaN        NaN   \n",
       "874   142071  AA Batteries (4-pack)                1       3.84   \n",
       "875   142071  AA Batteries (4-pack)                1       3.84   \n",
       "\n",
       "         Order_Date              Purchase_Address  \n",
       "664             NaN                           NaN  \n",
       "678             NaN                           NaN  \n",
       "797             NaN                           NaN  \n",
       "874  01/17/19 23:02  131 2nd St, Boston, MA 02215  \n",
       "875  01/17/19 23:02  131 2nd St, Boston, MA 02215  "
      ]
     },
     "execution_count": 28,
     "metadata": {},
     "output_type": "execute_result"
    }
   ],
   "source": [
    "# Call only duplicated values\n",
    "duplicates = Sales_2019[Sales_2019.duplicated(keep=False)]\n",
    "\n",
    "# Print the duplicated rows\n",
    "duplicates.head()"
   ]
  },
  {
   "cell_type": "code",
   "execution_count": 29,
   "metadata": {},
   "outputs": [],
   "source": [
    "# Drop duplicate rows, keeping the first occurrence\n",
    "Sales_2019_cleaned=Sales_2019.drop_duplicates()"
   ]
  },
  {
   "cell_type": "code",
   "execution_count": 30,
   "metadata": {},
   "outputs": [
    {
     "data": {
      "text/plain": [
       "np.int64(0)"
      ]
     },
     "execution_count": 30,
     "metadata": {},
     "output_type": "execute_result"
    }
   ],
   "source": [
    "Sales_2019_cleaned.duplicated().sum()"
   ]
  },
  {
   "cell_type": "markdown",
   "metadata": {},
   "source": [
    "Handling Null values "
   ]
  },
  {
   "cell_type": "code",
   "execution_count": 31,
   "metadata": {},
   "outputs": [
    {
     "data": {
      "text/plain": [
       "Order_ID            2\n",
       "Product             1\n",
       "Quantity_Ordered    2\n",
       "Price_Each          2\n",
       "Order_Date          2\n",
       "Purchase_Address    1\n",
       "dtype: int64"
      ]
     },
     "execution_count": 31,
     "metadata": {},
     "output_type": "execute_result"
    }
   ],
   "source": [
    "Sales_2019_cleaned.isnull().sum()"
   ]
  },
  {
   "cell_type": "code",
   "execution_count": 32,
   "metadata": {},
   "outputs": [
    {
     "data": {
      "text/html": [
       "<div>\n",
       "<style scoped>\n",
       "    .dataframe tbody tr th:only-of-type {\n",
       "        vertical-align: middle;\n",
       "    }\n",
       "\n",
       "    .dataframe tbody tr th {\n",
       "        vertical-align: top;\n",
       "    }\n",
       "\n",
       "    .dataframe thead th {\n",
       "        text-align: right;\n",
       "    }\n",
       "</style>\n",
       "<table border=\"1\" class=\"dataframe\">\n",
       "  <thead>\n",
       "    <tr style=\"text-align: right;\">\n",
       "      <th></th>\n",
       "      <th>Order_ID</th>\n",
       "      <th>Product</th>\n",
       "      <th>Quantity_Ordered</th>\n",
       "      <th>Price_Each</th>\n",
       "      <th>Order_Date</th>\n",
       "      <th>Purchase_Address</th>\n",
       "    </tr>\n",
       "  </thead>\n",
       "  <tbody>\n",
       "    <tr>\n",
       "      <th>664</th>\n",
       "      <td>NaN</td>\n",
       "      <td>NaN</td>\n",
       "      <td>NaN</td>\n",
       "      <td>NaN</td>\n",
       "      <td>NaN</td>\n",
       "      <td>NaN</td>\n",
       "    </tr>\n",
       "    <tr>\n",
       "      <th>775</th>\n",
       "      <td>NaN</td>\n",
       "      <td>Product</td>\n",
       "      <td>NaN</td>\n",
       "      <td>NaN</td>\n",
       "      <td>None</td>\n",
       "      <td>Purchase Address</td>\n",
       "    </tr>\n",
       "  </tbody>\n",
       "</table>\n",
       "</div>"
      ],
      "text/plain": [
       "    Order_ID  Product Quantity_Ordered Price_Each Order_Date  Purchase_Address\n",
       "664      NaN      NaN              NaN        NaN        NaN               NaN\n",
       "775      NaN  Product              NaN        NaN       None  Purchase Address"
      ]
     },
     "execution_count": 32,
     "metadata": {},
     "output_type": "execute_result"
    }
   ],
   "source": [
    "null_ID = Sales_2019_cleaned[Sales_2019_cleaned['Order_ID'].isnull()]\n",
    "\n",
    "# Print the rows with null values in the 'Product' column\n",
    "null_ID"
   ]
  },
  {
   "cell_type": "code",
   "execution_count": 33,
   "metadata": {},
   "outputs": [
    {
     "data": {
      "text/html": [
       "<div>\n",
       "<style scoped>\n",
       "    .dataframe tbody tr th:only-of-type {\n",
       "        vertical-align: middle;\n",
       "    }\n",
       "\n",
       "    .dataframe tbody tr th {\n",
       "        vertical-align: top;\n",
       "    }\n",
       "\n",
       "    .dataframe thead th {\n",
       "        text-align: right;\n",
       "    }\n",
       "</style>\n",
       "<table border=\"1\" class=\"dataframe\">\n",
       "  <thead>\n",
       "    <tr style=\"text-align: right;\">\n",
       "      <th></th>\n",
       "      <th>Order_ID</th>\n",
       "      <th>Product</th>\n",
       "      <th>Quantity_Ordered</th>\n",
       "      <th>Price_Each</th>\n",
       "      <th>Order_Date</th>\n",
       "      <th>Purchase_Address</th>\n",
       "    </tr>\n",
       "  </thead>\n",
       "  <tbody>\n",
       "    <tr>\n",
       "      <th>664</th>\n",
       "      <td>NaN</td>\n",
       "      <td>NaN</td>\n",
       "      <td>NaN</td>\n",
       "      <td>NaN</td>\n",
       "      <td>NaN</td>\n",
       "      <td>NaN</td>\n",
       "    </tr>\n",
       "  </tbody>\n",
       "</table>\n",
       "</div>"
      ],
      "text/plain": [
       "    Order_ID Product Quantity_Ordered Price_Each Order_Date Purchase_Address\n",
       "664      NaN     NaN              NaN        NaN        NaN              NaN"
      ]
     },
     "execution_count": 33,
     "metadata": {},
     "output_type": "execute_result"
    }
   ],
   "source": [
    "null_product = Sales_2019_cleaned[Sales_2019_cleaned['Product'].isnull()]\n",
    "\n",
    "# Print the rows with null values in the 'Product' column\n",
    "null_product"
   ]
  },
  {
   "cell_type": "code",
   "execution_count": 34,
   "metadata": {},
   "outputs": [
    {
     "data": {
      "text/html": [
       "<div>\n",
       "<style scoped>\n",
       "    .dataframe tbody tr th:only-of-type {\n",
       "        vertical-align: middle;\n",
       "    }\n",
       "\n",
       "    .dataframe tbody tr th {\n",
       "        vertical-align: top;\n",
       "    }\n",
       "\n",
       "    .dataframe thead th {\n",
       "        text-align: right;\n",
       "    }\n",
       "</style>\n",
       "<table border=\"1\" class=\"dataframe\">\n",
       "  <thead>\n",
       "    <tr style=\"text-align: right;\">\n",
       "      <th></th>\n",
       "      <th>Order_ID</th>\n",
       "      <th>Product</th>\n",
       "      <th>Quantity_Ordered</th>\n",
       "      <th>Price_Each</th>\n",
       "      <th>Order_Date</th>\n",
       "      <th>Purchase_Address</th>\n",
       "    </tr>\n",
       "  </thead>\n",
       "  <tbody>\n",
       "    <tr>\n",
       "      <th>664</th>\n",
       "      <td>NaN</td>\n",
       "      <td>NaN</td>\n",
       "      <td>NaN</td>\n",
       "      <td>NaN</td>\n",
       "      <td>NaN</td>\n",
       "      <td>NaN</td>\n",
       "    </tr>\n",
       "    <tr>\n",
       "      <th>775</th>\n",
       "      <td>NaN</td>\n",
       "      <td>Product</td>\n",
       "      <td>NaN</td>\n",
       "      <td>NaN</td>\n",
       "      <td>None</td>\n",
       "      <td>Purchase Address</td>\n",
       "    </tr>\n",
       "  </tbody>\n",
       "</table>\n",
       "</div>"
      ],
      "text/plain": [
       "    Order_ID  Product Quantity_Ordered Price_Each Order_Date  Purchase_Address\n",
       "664      NaN      NaN              NaN        NaN        NaN               NaN\n",
       "775      NaN  Product              NaN        NaN       None  Purchase Address"
      ]
     },
     "execution_count": 34,
     "metadata": {},
     "output_type": "execute_result"
    }
   ],
   "source": [
    "null_Quantity = Sales_2019_cleaned[Sales_2019_cleaned['Quantity_Ordered'].isnull()]\n",
    "\n",
    "# Print the rows with null values in the 'Product' column\n",
    "null_Quantity"
   ]
  },
  {
   "cell_type": "code",
   "execution_count": 35,
   "metadata": {},
   "outputs": [
    {
     "data": {
      "text/html": [
       "<div>\n",
       "<style scoped>\n",
       "    .dataframe tbody tr th:only-of-type {\n",
       "        vertical-align: middle;\n",
       "    }\n",
       "\n",
       "    .dataframe tbody tr th {\n",
       "        vertical-align: top;\n",
       "    }\n",
       "\n",
       "    .dataframe thead th {\n",
       "        text-align: right;\n",
       "    }\n",
       "</style>\n",
       "<table border=\"1\" class=\"dataframe\">\n",
       "  <thead>\n",
       "    <tr style=\"text-align: right;\">\n",
       "      <th></th>\n",
       "      <th>Order_ID</th>\n",
       "      <th>Product</th>\n",
       "      <th>Quantity_Ordered</th>\n",
       "      <th>Price_Each</th>\n",
       "      <th>Order_Date</th>\n",
       "      <th>Purchase_Address</th>\n",
       "    </tr>\n",
       "  </thead>\n",
       "  <tbody>\n",
       "    <tr>\n",
       "      <th>664</th>\n",
       "      <td>NaN</td>\n",
       "      <td>NaN</td>\n",
       "      <td>NaN</td>\n",
       "      <td>NaN</td>\n",
       "      <td>NaN</td>\n",
       "      <td>NaN</td>\n",
       "    </tr>\n",
       "    <tr>\n",
       "      <th>775</th>\n",
       "      <td>NaN</td>\n",
       "      <td>Product</td>\n",
       "      <td>NaN</td>\n",
       "      <td>NaN</td>\n",
       "      <td>None</td>\n",
       "      <td>Purchase Address</td>\n",
       "    </tr>\n",
       "  </tbody>\n",
       "</table>\n",
       "</div>"
      ],
      "text/plain": [
       "    Order_ID  Product Quantity_Ordered Price_Each Order_Date  Purchase_Address\n",
       "664      NaN      NaN              NaN        NaN        NaN               NaN\n",
       "775      NaN  Product              NaN        NaN       None  Purchase Address"
      ]
     },
     "execution_count": 35,
     "metadata": {},
     "output_type": "execute_result"
    }
   ],
   "source": [
    "null_Price = Sales_2019_cleaned[Sales_2019_cleaned['Price_Each'].isnull()]\n",
    "\n",
    "# Print the rows with null values in the 'Product' column\n",
    "null_Price"
   ]
  },
  {
   "cell_type": "code",
   "execution_count": 36,
   "metadata": {},
   "outputs": [
    {
     "data": {
      "text/html": [
       "<div>\n",
       "<style scoped>\n",
       "    .dataframe tbody tr th:only-of-type {\n",
       "        vertical-align: middle;\n",
       "    }\n",
       "\n",
       "    .dataframe tbody tr th {\n",
       "        vertical-align: top;\n",
       "    }\n",
       "\n",
       "    .dataframe thead th {\n",
       "        text-align: right;\n",
       "    }\n",
       "</style>\n",
       "<table border=\"1\" class=\"dataframe\">\n",
       "  <thead>\n",
       "    <tr style=\"text-align: right;\">\n",
       "      <th></th>\n",
       "      <th>Order_ID</th>\n",
       "      <th>Product</th>\n",
       "      <th>Quantity_Ordered</th>\n",
       "      <th>Price_Each</th>\n",
       "      <th>Order_Date</th>\n",
       "      <th>Purchase_Address</th>\n",
       "    </tr>\n",
       "  </thead>\n",
       "  <tbody>\n",
       "    <tr>\n",
       "      <th>664</th>\n",
       "      <td>NaN</td>\n",
       "      <td>NaN</td>\n",
       "      <td>NaN</td>\n",
       "      <td>NaN</td>\n",
       "      <td>NaN</td>\n",
       "      <td>NaN</td>\n",
       "    </tr>\n",
       "    <tr>\n",
       "      <th>775</th>\n",
       "      <td>NaN</td>\n",
       "      <td>Product</td>\n",
       "      <td>NaN</td>\n",
       "      <td>NaN</td>\n",
       "      <td>None</td>\n",
       "      <td>Purchase Address</td>\n",
       "    </tr>\n",
       "  </tbody>\n",
       "</table>\n",
       "</div>"
      ],
      "text/plain": [
       "    Order_ID  Product Quantity_Ordered Price_Each Order_Date  Purchase_Address\n",
       "664      NaN      NaN              NaN        NaN        NaN               NaN\n",
       "775      NaN  Product              NaN        NaN       None  Purchase Address"
      ]
     },
     "execution_count": 36,
     "metadata": {},
     "output_type": "execute_result"
    }
   ],
   "source": [
    "null_Order = Sales_2019_cleaned[Sales_2019_cleaned['Order_Date'].isnull()]\n",
    "\n",
    "# Print the rows with null values in the 'Product' column\n",
    "null_Order"
   ]
  },
  {
   "cell_type": "code",
   "execution_count": 37,
   "metadata": {},
   "outputs": [
    {
     "data": {
      "text/html": [
       "<div>\n",
       "<style scoped>\n",
       "    .dataframe tbody tr th:only-of-type {\n",
       "        vertical-align: middle;\n",
       "    }\n",
       "\n",
       "    .dataframe tbody tr th {\n",
       "        vertical-align: top;\n",
       "    }\n",
       "\n",
       "    .dataframe thead th {\n",
       "        text-align: right;\n",
       "    }\n",
       "</style>\n",
       "<table border=\"1\" class=\"dataframe\">\n",
       "  <thead>\n",
       "    <tr style=\"text-align: right;\">\n",
       "      <th></th>\n",
       "      <th>Order_ID</th>\n",
       "      <th>Product</th>\n",
       "      <th>Quantity_Ordered</th>\n",
       "      <th>Price_Each</th>\n",
       "      <th>Order_Date</th>\n",
       "      <th>Purchase_Address</th>\n",
       "    </tr>\n",
       "  </thead>\n",
       "  <tbody>\n",
       "    <tr>\n",
       "      <th>664</th>\n",
       "      <td>NaN</td>\n",
       "      <td>NaN</td>\n",
       "      <td>NaN</td>\n",
       "      <td>NaN</td>\n",
       "      <td>NaN</td>\n",
       "      <td>NaN</td>\n",
       "    </tr>\n",
       "  </tbody>\n",
       "</table>\n",
       "</div>"
      ],
      "text/plain": [
       "    Order_ID Product Quantity_Ordered Price_Each Order_Date Purchase_Address\n",
       "664      NaN     NaN              NaN        NaN        NaN              NaN"
      ]
     },
     "execution_count": 37,
     "metadata": {},
     "output_type": "execute_result"
    }
   ],
   "source": [
    "null_Purchase = Sales_2019_cleaned[Sales_2019_cleaned['Purchase_Address'].isnull()]\n",
    "\n",
    "# Print the rows with null values in the 'Product' column\n",
    "null_Purchase"
   ]
  },
  {
   "cell_type": "code",
   "execution_count": 38,
   "metadata": {},
   "outputs": [],
   "source": [
    "# Drop rows where all values are NaN\n",
    "Sales_2019_cleaned.dropna(how='all', inplace=True)\n",
    "\n",
    "# Drop rows where specific columns contain unwanted strings (e.g., 'Product', 'Purchase Address')\n",
    "Sales_2019_cleaned = Sales_2019_cleaned[~Sales_2019_cleaned['Order_ID'].str.contains('Order_ID', na=False)]\n",
    "Sales_2019_cleaned = Sales_2019_cleaned[~Sales_2019_cleaned['Product'].str.contains('Product', na=False)]\n",
    "Sales_2019_cleaned = Sales_2019_cleaned[~Sales_2019_cleaned['Quantity_Ordered'].str.contains('Quantity_Ordered', na=False)]\n",
    "Sales_2019_cleaned = Sales_2019_cleaned[~Sales_2019_cleaned['Price_Each'].str.contains('Price_Each', na=False)]\n",
    "Sales_2019_cleaned = Sales_2019_cleaned[~Sales_2019_cleaned['Order_Date'].str.contains('Order_Date', na=False)]\n",
    "Sales_2019_cleaned = Sales_2019_cleaned[~Sales_2019_cleaned['Purchase_Address'].str.contains('Purchase_Address', na=False)]"
   ]
  },
  {
   "cell_type": "code",
   "execution_count": 39,
   "metadata": {},
   "outputs": [
    {
     "data": {
      "text/plain": [
       "Order_ID            0\n",
       "Product             0\n",
       "Quantity_Ordered    0\n",
       "Price_Each          0\n",
       "Order_Date          0\n",
       "Purchase_Address    0\n",
       "dtype: int64"
      ]
     },
     "execution_count": 39,
     "metadata": {},
     "output_type": "execute_result"
    }
   ],
   "source": [
    "Sales_2019_cleaned.isnull().sum()"
   ]
  },
  {
   "cell_type": "markdown",
   "metadata": {},
   "source": [
    "Handling Datatypes"
   ]
  },
  {
   "cell_type": "code",
   "execution_count": 40,
   "metadata": {},
   "outputs": [
    {
     "data": {
      "text/plain": [
       "Order_ID            object\n",
       "Product             object\n",
       "Quantity_Ordered    object\n",
       "Price_Each          object\n",
       "Order_Date          object\n",
       "Purchase_Address    object\n",
       "dtype: object"
      ]
     },
     "execution_count": 40,
     "metadata": {},
     "output_type": "execute_result"
    }
   ],
   "source": [
    "Sales_2019_cleaned.dtypes"
   ]
  },
  {
   "cell_type": "code",
   "execution_count": 41,
   "metadata": {},
   "outputs": [],
   "source": [
    "# Ensure that both 'Quantity_Ordered' and 'Price_Each' are numeric, handling any errors\n",
    "Sales_2019_cleaned['Quantity_Ordered'] = pd.to_numeric(Sales_2019_cleaned['Quantity_Ordered'], errors='coerce')\n",
    "Sales_2019_cleaned['Price_Each'] = pd.to_numeric(Sales_2019_cleaned['Price_Each'], errors='coerce')"
   ]
  },
  {
   "cell_type": "code",
   "execution_count": 42,
   "metadata": {},
   "outputs": [],
   "source": [
    "# Convert 'Price_Each' to dollars\n",
    "Sales_2019_cleaned['Price_Each'] = Sales_2019_cleaned['Price_Each'].apply(lambda x: x * 1.00)\n",
    "\n",
    "# Round 'Price_Each' to 2 decimal places\n",
    "Sales_2019_cleaned['Price_Each'] = Sales_2019_cleaned['Price_Each'].round(2)"
   ]
  },
  {
   "cell_type": "code",
   "execution_count": 43,
   "metadata": {},
   "outputs": [
    {
     "data": {
      "text/plain": [
       "Order_ID             object\n",
       "Product              object\n",
       "Quantity_Ordered    float64\n",
       "Price_Each          float64\n",
       "Order_Date           object\n",
       "Purchase_Address     object\n",
       "dtype: object"
      ]
     },
     "execution_count": 43,
     "metadata": {},
     "output_type": "execute_result"
    }
   ],
   "source": [
    "Sales_2019_cleaned.dtypes"
   ]
  },
  {
   "cell_type": "code",
   "execution_count": 44,
   "metadata": {},
   "outputs": [
    {
     "data": {
      "text/html": [
       "<div>\n",
       "<style scoped>\n",
       "    .dataframe tbody tr th:only-of-type {\n",
       "        vertical-align: middle;\n",
       "    }\n",
       "\n",
       "    .dataframe tbody tr th {\n",
       "        vertical-align: top;\n",
       "    }\n",
       "\n",
       "    .dataframe thead th {\n",
       "        text-align: right;\n",
       "    }\n",
       "</style>\n",
       "<table border=\"1\" class=\"dataframe\">\n",
       "  <thead>\n",
       "    <tr style=\"text-align: right;\">\n",
       "      <th></th>\n",
       "      <th>Order_ID</th>\n",
       "      <th>Product</th>\n",
       "      <th>Quantity_Ordered</th>\n",
       "      <th>Price_Each</th>\n",
       "      <th>Order_Date</th>\n",
       "      <th>Purchase_Address</th>\n",
       "      <th>Year</th>\n",
       "      <th>Month</th>\n",
       "      <th>Day</th>\n",
       "      <th>Hour</th>\n",
       "      <th>Minute</th>\n",
       "    </tr>\n",
       "  </thead>\n",
       "  <tbody>\n",
       "    <tr>\n",
       "      <th>0</th>\n",
       "      <td>141234</td>\n",
       "      <td>iPhone</td>\n",
       "      <td>1.0</td>\n",
       "      <td>700.00</td>\n",
       "      <td>2019-01-22 21:25:00</td>\n",
       "      <td>944 Walnut St, Boston, MA 02215</td>\n",
       "      <td>2019</td>\n",
       "      <td>1</td>\n",
       "      <td>22</td>\n",
       "      <td>21</td>\n",
       "      <td>25</td>\n",
       "    </tr>\n",
       "    <tr>\n",
       "      <th>1</th>\n",
       "      <td>141235</td>\n",
       "      <td>Lightning Charging Cable</td>\n",
       "      <td>1.0</td>\n",
       "      <td>14.95</td>\n",
       "      <td>2019-01-28 14:15:00</td>\n",
       "      <td>185 Maple St, Portland, OR 97035</td>\n",
       "      <td>2019</td>\n",
       "      <td>1</td>\n",
       "      <td>28</td>\n",
       "      <td>14</td>\n",
       "      <td>15</td>\n",
       "    </tr>\n",
       "    <tr>\n",
       "      <th>2</th>\n",
       "      <td>141236</td>\n",
       "      <td>Wired Headphones</td>\n",
       "      <td>2.0</td>\n",
       "      <td>11.99</td>\n",
       "      <td>2019-01-17 13:33:00</td>\n",
       "      <td>538 Adams St, San Francisco, CA 94016</td>\n",
       "      <td>2019</td>\n",
       "      <td>1</td>\n",
       "      <td>17</td>\n",
       "      <td>13</td>\n",
       "      <td>33</td>\n",
       "    </tr>\n",
       "    <tr>\n",
       "      <th>3</th>\n",
       "      <td>141237</td>\n",
       "      <td>27in FHD Monitor</td>\n",
       "      <td>1.0</td>\n",
       "      <td>149.99</td>\n",
       "      <td>2019-01-05 20:33:00</td>\n",
       "      <td>738 10th St, Los Angeles, CA 90001</td>\n",
       "      <td>2019</td>\n",
       "      <td>1</td>\n",
       "      <td>5</td>\n",
       "      <td>20</td>\n",
       "      <td>33</td>\n",
       "    </tr>\n",
       "    <tr>\n",
       "      <th>4</th>\n",
       "      <td>141238</td>\n",
       "      <td>Wired Headphones</td>\n",
       "      <td>1.0</td>\n",
       "      <td>11.99</td>\n",
       "      <td>2019-01-25 11:59:00</td>\n",
       "      <td>387 10th St, Austin, TX 73301</td>\n",
       "      <td>2019</td>\n",
       "      <td>1</td>\n",
       "      <td>25</td>\n",
       "      <td>11</td>\n",
       "      <td>59</td>\n",
       "    </tr>\n",
       "  </tbody>\n",
       "</table>\n",
       "</div>"
      ],
      "text/plain": [
       "  Order_ID                   Product  Quantity_Ordered  Price_Each  \\\n",
       "0   141234                    iPhone               1.0      700.00   \n",
       "1   141235  Lightning Charging Cable               1.0       14.95   \n",
       "2   141236          Wired Headphones               2.0       11.99   \n",
       "3   141237          27in FHD Monitor               1.0      149.99   \n",
       "4   141238          Wired Headphones               1.0       11.99   \n",
       "\n",
       "           Order_Date                       Purchase_Address  Year  Month  \\\n",
       "0 2019-01-22 21:25:00        944 Walnut St, Boston, MA 02215  2019      1   \n",
       "1 2019-01-28 14:15:00       185 Maple St, Portland, OR 97035  2019      1   \n",
       "2 2019-01-17 13:33:00  538 Adams St, San Francisco, CA 94016  2019      1   \n",
       "3 2019-01-05 20:33:00     738 10th St, Los Angeles, CA 90001  2019      1   \n",
       "4 2019-01-25 11:59:00          387 10th St, Austin, TX 73301  2019      1   \n",
       "\n",
       "   Day  Hour  Minute  \n",
       "0   22    21      25  \n",
       "1   28    14      15  \n",
       "2   17    13      33  \n",
       "3    5    20      33  \n",
       "4   25    11      59  "
      ]
     },
     "execution_count": 44,
     "metadata": {},
     "output_type": "execute_result"
    }
   ],
   "source": [
    "# Convert 'Order_Date' to datetime \n",
    "Sales_2019_cleaned['Order_Date'] = pd.to_datetime(Sales_2019_cleaned['Order_Date'], errors='coerce')\n",
    "\n",
    "# Drop any rows with invalid dates (NaT values)\n",
    "Sales_2019_cleaned = Sales_2019_cleaned.dropna(subset=['Order_Date'])\n",
    "\n",
    "# Extract year, month, day, hour, and minute\n",
    "Sales_2019_cleaned['Year'] = Sales_2019_cleaned['Order_Date'].dt.year\n",
    "Sales_2019_cleaned['Month'] = Sales_2019_cleaned['Order_Date'].dt.month\n",
    "Sales_2019_cleaned['Day'] = Sales_2019_cleaned['Order_Date'].dt.day\n",
    "Sales_2019_cleaned['Hour'] = Sales_2019_cleaned['Order_Date'].dt.hour\n",
    "Sales_2019_cleaned['Minute'] = Sales_2019_cleaned['Order_Date'].dt.minute\n",
    "\n",
    "# Print the first few rows to verify the changes\n",
    "Sales_2019_cleaned.head()"
   ]
  },
  {
   "cell_type": "markdown",
   "metadata": {},
   "source": [
    "Feature Engineering"
   ]
  },
  {
   "cell_type": "code",
   "execution_count": 45,
   "metadata": {},
   "outputs": [
    {
     "name": "stdout",
     "output_type": "stream",
     "text": [
      "                        Purchase_Address           City\n",
      "0        944 Walnut St, Boston, MA 02215         Boston\n",
      "1       185 Maple St, Portland, OR 97035       Portland\n",
      "2  538 Adams St, San Francisco, CA 94016  San Francisco\n",
      "3     738 10th St, Los Angeles, CA 90001    Los Angeles\n",
      "4          387 10th St, Austin, TX 73301         Austin\n"
     ]
    }
   ],
   "source": [
    "# Convert the 'Purchase_Address' column to string\n",
    "Sales_2019_cleaned['Purchase_Address'] = Sales_2019_cleaned['Purchase_Address'].astype(str)\n",
    "\n",
    "# Extract the city from 'Purchase_Address'\n",
    "Sales_2019_cleaned['City'] = Sales_2019_cleaned['Purchase_Address'].apply(lambda x: x.split(',')[1].strip() if ',' in x else None)\n",
    "\n",
    "# Display the first few rows to check if the city was extracted correctly\n",
    "print(Sales_2019_cleaned[['Purchase_Address', 'City']].head())"
   ]
  },
  {
   "cell_type": "code",
   "execution_count": 46,
   "metadata": {},
   "outputs": [
    {
     "name": "stdout",
     "output_type": "stream",
     "text": [
      "List of cities in Sales_2O19_cleaned:\n",
      "Boston\n",
      "Portland\n",
      "San Francisco\n",
      "Los Angeles\n",
      "Austin\n",
      "Atlanta\n",
      "Seattle\n",
      "New York City\n",
      "Dallas\n"
     ]
    }
   ],
   "source": [
    "cities=Sales_2019_cleaned['City'].unique()  # Get all unique cities\n",
    "\n",
    "# Display all cities\n",
    "print(\"List of cities in Sales_2O19_cleaned:\")\n",
    "for city in cities:\n",
    "    print(city)"
   ]
  },
  {
   "cell_type": "code",
   "execution_count": 47,
   "metadata": {},
   "outputs": [],
   "source": [
    "# Create a new column 'Total_Sales' by multiplying 'Quantity_Ordered' and 'Price_Each'\n",
    "Sales_2019_cleaned['Total_Sales'] = Sales_2019_cleaned['Quantity_Ordered'] * Sales_2019_cleaned['Price_Each']"
   ]
  },
  {
   "cell_type": "code",
   "execution_count": 48,
   "metadata": {},
   "outputs": [
    {
     "data": {
      "text/html": [
       "<div>\n",
       "<style scoped>\n",
       "    .dataframe tbody tr th:only-of-type {\n",
       "        vertical-align: middle;\n",
       "    }\n",
       "\n",
       "    .dataframe tbody tr th {\n",
       "        vertical-align: top;\n",
       "    }\n",
       "\n",
       "    .dataframe thead th {\n",
       "        text-align: right;\n",
       "    }\n",
       "</style>\n",
       "<table border=\"1\" class=\"dataframe\">\n",
       "  <thead>\n",
       "    <tr style=\"text-align: right;\">\n",
       "      <th></th>\n",
       "      <th>Order_ID</th>\n",
       "      <th>Product</th>\n",
       "      <th>Quantity_Ordered</th>\n",
       "      <th>Price_Each</th>\n",
       "      <th>Order_Date</th>\n",
       "      <th>Purchase_Address</th>\n",
       "      <th>Year</th>\n",
       "      <th>Month</th>\n",
       "      <th>Day</th>\n",
       "      <th>Hour</th>\n",
       "      <th>Minute</th>\n",
       "      <th>City</th>\n",
       "      <th>Total_Sales</th>\n",
       "    </tr>\n",
       "  </thead>\n",
       "  <tbody>\n",
       "    <tr>\n",
       "      <th>25112</th>\n",
       "      <td>319666.0</td>\n",
       "      <td>Lightning Charging Cable</td>\n",
       "      <td>1.0</td>\n",
       "      <td>14.95</td>\n",
       "      <td>2011-12-19 20:58:00</td>\n",
       "      <td>14 Madison St, San Francisco, CA 94016</td>\n",
       "      <td>2011</td>\n",
       "      <td>12</td>\n",
       "      <td>19</td>\n",
       "      <td>20</td>\n",
       "      <td>58</td>\n",
       "      <td>San Francisco</td>\n",
       "      <td>14.95</td>\n",
       "    </tr>\n",
       "    <tr>\n",
       "      <th>25113</th>\n",
       "      <td>319667.0</td>\n",
       "      <td>AA Batteries (4-pack)</td>\n",
       "      <td>2.0</td>\n",
       "      <td>3.84</td>\n",
       "      <td>2001-12-19 12:01:00</td>\n",
       "      <td>549 Willow St, Los Angeles, CA 90001</td>\n",
       "      <td>2001</td>\n",
       "      <td>12</td>\n",
       "      <td>19</td>\n",
       "      <td>12</td>\n",
       "      <td>1</td>\n",
       "      <td>Los Angeles</td>\n",
       "      <td>7.68</td>\n",
       "    </tr>\n",
       "    <tr>\n",
       "      <th>25114</th>\n",
       "      <td>319668.0</td>\n",
       "      <td>Vareebadd Phone</td>\n",
       "      <td>1.0</td>\n",
       "      <td>400.00</td>\n",
       "      <td>2009-12-19 06:43:00</td>\n",
       "      <td>273 Wilson St, Seattle, WA 98101</td>\n",
       "      <td>2009</td>\n",
       "      <td>12</td>\n",
       "      <td>19</td>\n",
       "      <td>6</td>\n",
       "      <td>43</td>\n",
       "      <td>Seattle</td>\n",
       "      <td>400.00</td>\n",
       "    </tr>\n",
       "    <tr>\n",
       "      <th>25115</th>\n",
       "      <td>319669.0</td>\n",
       "      <td>Wired Headphones</td>\n",
       "      <td>1.0</td>\n",
       "      <td>11.99</td>\n",
       "      <td>2003-12-19 10:39:00</td>\n",
       "      <td>778 River St, Dallas, TX 75001</td>\n",
       "      <td>2003</td>\n",
       "      <td>12</td>\n",
       "      <td>19</td>\n",
       "      <td>10</td>\n",
       "      <td>39</td>\n",
       "      <td>Dallas</td>\n",
       "      <td>11.99</td>\n",
       "    </tr>\n",
       "    <tr>\n",
       "      <th>25116</th>\n",
       "      <td>319670.0</td>\n",
       "      <td>Bose SoundSport Headphones</td>\n",
       "      <td>1.0</td>\n",
       "      <td>99.99</td>\n",
       "      <td>2021-12-19 21:45:00</td>\n",
       "      <td>747 Chestnut St, Los Angeles, CA 90001</td>\n",
       "      <td>2021</td>\n",
       "      <td>12</td>\n",
       "      <td>19</td>\n",
       "      <td>21</td>\n",
       "      <td>45</td>\n",
       "      <td>Los Angeles</td>\n",
       "      <td>99.99</td>\n",
       "    </tr>\n",
       "  </tbody>\n",
       "</table>\n",
       "</div>"
      ],
      "text/plain": [
       "       Order_ID                     Product  Quantity_Ordered  Price_Each  \\\n",
       "25112  319666.0    Lightning Charging Cable               1.0       14.95   \n",
       "25113  319667.0       AA Batteries (4-pack)               2.0        3.84   \n",
       "25114  319668.0             Vareebadd Phone               1.0      400.00   \n",
       "25115  319669.0            Wired Headphones               1.0       11.99   \n",
       "25116  319670.0  Bose SoundSport Headphones               1.0       99.99   \n",
       "\n",
       "               Order_Date                        Purchase_Address  Year  \\\n",
       "25112 2011-12-19 20:58:00  14 Madison St, San Francisco, CA 94016  2011   \n",
       "25113 2001-12-19 12:01:00    549 Willow St, Los Angeles, CA 90001  2001   \n",
       "25114 2009-12-19 06:43:00        273 Wilson St, Seattle, WA 98101  2009   \n",
       "25115 2003-12-19 10:39:00          778 River St, Dallas, TX 75001  2003   \n",
       "25116 2021-12-19 21:45:00  747 Chestnut St, Los Angeles, CA 90001  2021   \n",
       "\n",
       "       Month  Day  Hour  Minute           City  Total_Sales  \n",
       "25112     12   19    20      58  San Francisco        14.95  \n",
       "25113     12   19    12       1    Los Angeles         7.68  \n",
       "25114     12   19     6      43        Seattle       400.00  \n",
       "25115     12   19    10      39         Dallas        11.99  \n",
       "25116     12   19    21      45    Los Angeles        99.99  "
      ]
     },
     "execution_count": 48,
     "metadata": {},
     "output_type": "execute_result"
    }
   ],
   "source": [
    "# Display the DataFrame with the new 'Total_Sales' column\n",
    "Sales_2019_cleaned.tail()"
   ]
  },
  {
   "cell_type": "code",
   "execution_count": 49,
   "metadata": {},
   "outputs": [],
   "source": [
    "# Create a new column 'Product_Level' based on the condition of 'Price_Each'\n",
    "Sales_2019_cleaned['Product_Level'] = np.where(Sales_2019_cleaned['Price_Each'] > 99.99, 'High-Level', 'Basic-Level')"
   ]
  },
  {
   "cell_type": "code",
   "execution_count": 50,
   "metadata": {},
   "outputs": [
    {
     "data": {
      "text/html": [
       "<div>\n",
       "<style scoped>\n",
       "    .dataframe tbody tr th:only-of-type {\n",
       "        vertical-align: middle;\n",
       "    }\n",
       "\n",
       "    .dataframe tbody tr th {\n",
       "        vertical-align: top;\n",
       "    }\n",
       "\n",
       "    .dataframe thead th {\n",
       "        text-align: right;\n",
       "    }\n",
       "</style>\n",
       "<table border=\"1\" class=\"dataframe\">\n",
       "  <thead>\n",
       "    <tr style=\"text-align: right;\">\n",
       "      <th></th>\n",
       "      <th>Order_ID</th>\n",
       "      <th>Product</th>\n",
       "      <th>Quantity_Ordered</th>\n",
       "      <th>Price_Each</th>\n",
       "      <th>Order_Date</th>\n",
       "      <th>Purchase_Address</th>\n",
       "      <th>Year</th>\n",
       "      <th>Month</th>\n",
       "      <th>Day</th>\n",
       "      <th>Hour</th>\n",
       "      <th>Minute</th>\n",
       "      <th>City</th>\n",
       "      <th>Total_Sales</th>\n",
       "      <th>Product_Level</th>\n",
       "    </tr>\n",
       "  </thead>\n",
       "  <tbody>\n",
       "    <tr>\n",
       "      <th>0</th>\n",
       "      <td>141234</td>\n",
       "      <td>iPhone</td>\n",
       "      <td>1.0</td>\n",
       "      <td>700.00</td>\n",
       "      <td>2019-01-22 21:25:00</td>\n",
       "      <td>944 Walnut St, Boston, MA 02215</td>\n",
       "      <td>2019</td>\n",
       "      <td>1</td>\n",
       "      <td>22</td>\n",
       "      <td>21</td>\n",
       "      <td>25</td>\n",
       "      <td>Boston</td>\n",
       "      <td>700.00</td>\n",
       "      <td>High-Level</td>\n",
       "    </tr>\n",
       "    <tr>\n",
       "      <th>1</th>\n",
       "      <td>141235</td>\n",
       "      <td>Lightning Charging Cable</td>\n",
       "      <td>1.0</td>\n",
       "      <td>14.95</td>\n",
       "      <td>2019-01-28 14:15:00</td>\n",
       "      <td>185 Maple St, Portland, OR 97035</td>\n",
       "      <td>2019</td>\n",
       "      <td>1</td>\n",
       "      <td>28</td>\n",
       "      <td>14</td>\n",
       "      <td>15</td>\n",
       "      <td>Portland</td>\n",
       "      <td>14.95</td>\n",
       "      <td>Basic-Level</td>\n",
       "    </tr>\n",
       "    <tr>\n",
       "      <th>2</th>\n",
       "      <td>141236</td>\n",
       "      <td>Wired Headphones</td>\n",
       "      <td>2.0</td>\n",
       "      <td>11.99</td>\n",
       "      <td>2019-01-17 13:33:00</td>\n",
       "      <td>538 Adams St, San Francisco, CA 94016</td>\n",
       "      <td>2019</td>\n",
       "      <td>1</td>\n",
       "      <td>17</td>\n",
       "      <td>13</td>\n",
       "      <td>33</td>\n",
       "      <td>San Francisco</td>\n",
       "      <td>23.98</td>\n",
       "      <td>Basic-Level</td>\n",
       "    </tr>\n",
       "    <tr>\n",
       "      <th>3</th>\n",
       "      <td>141237</td>\n",
       "      <td>27in FHD Monitor</td>\n",
       "      <td>1.0</td>\n",
       "      <td>149.99</td>\n",
       "      <td>2019-01-05 20:33:00</td>\n",
       "      <td>738 10th St, Los Angeles, CA 90001</td>\n",
       "      <td>2019</td>\n",
       "      <td>1</td>\n",
       "      <td>5</td>\n",
       "      <td>20</td>\n",
       "      <td>33</td>\n",
       "      <td>Los Angeles</td>\n",
       "      <td>149.99</td>\n",
       "      <td>High-Level</td>\n",
       "    </tr>\n",
       "    <tr>\n",
       "      <th>4</th>\n",
       "      <td>141238</td>\n",
       "      <td>Wired Headphones</td>\n",
       "      <td>1.0</td>\n",
       "      <td>11.99</td>\n",
       "      <td>2019-01-25 11:59:00</td>\n",
       "      <td>387 10th St, Austin, TX 73301</td>\n",
       "      <td>2019</td>\n",
       "      <td>1</td>\n",
       "      <td>25</td>\n",
       "      <td>11</td>\n",
       "      <td>59</td>\n",
       "      <td>Austin</td>\n",
       "      <td>11.99</td>\n",
       "      <td>Basic-Level</td>\n",
       "    </tr>\n",
       "    <tr>\n",
       "      <th>...</th>\n",
       "      <td>...</td>\n",
       "      <td>...</td>\n",
       "      <td>...</td>\n",
       "      <td>...</td>\n",
       "      <td>...</td>\n",
       "      <td>...</td>\n",
       "      <td>...</td>\n",
       "      <td>...</td>\n",
       "      <td>...</td>\n",
       "      <td>...</td>\n",
       "      <td>...</td>\n",
       "      <td>...</td>\n",
       "      <td>...</td>\n",
       "      <td>...</td>\n",
       "    </tr>\n",
       "    <tr>\n",
       "      <th>25112</th>\n",
       "      <td>319666.0</td>\n",
       "      <td>Lightning Charging Cable</td>\n",
       "      <td>1.0</td>\n",
       "      <td>14.95</td>\n",
       "      <td>2011-12-19 20:58:00</td>\n",
       "      <td>14 Madison St, San Francisco, CA 94016</td>\n",
       "      <td>2011</td>\n",
       "      <td>12</td>\n",
       "      <td>19</td>\n",
       "      <td>20</td>\n",
       "      <td>58</td>\n",
       "      <td>San Francisco</td>\n",
       "      <td>14.95</td>\n",
       "      <td>Basic-Level</td>\n",
       "    </tr>\n",
       "    <tr>\n",
       "      <th>25113</th>\n",
       "      <td>319667.0</td>\n",
       "      <td>AA Batteries (4-pack)</td>\n",
       "      <td>2.0</td>\n",
       "      <td>3.84</td>\n",
       "      <td>2001-12-19 12:01:00</td>\n",
       "      <td>549 Willow St, Los Angeles, CA 90001</td>\n",
       "      <td>2001</td>\n",
       "      <td>12</td>\n",
       "      <td>19</td>\n",
       "      <td>12</td>\n",
       "      <td>1</td>\n",
       "      <td>Los Angeles</td>\n",
       "      <td>7.68</td>\n",
       "      <td>Basic-Level</td>\n",
       "    </tr>\n",
       "    <tr>\n",
       "      <th>25114</th>\n",
       "      <td>319668.0</td>\n",
       "      <td>Vareebadd Phone</td>\n",
       "      <td>1.0</td>\n",
       "      <td>400.00</td>\n",
       "      <td>2009-12-19 06:43:00</td>\n",
       "      <td>273 Wilson St, Seattle, WA 98101</td>\n",
       "      <td>2009</td>\n",
       "      <td>12</td>\n",
       "      <td>19</td>\n",
       "      <td>6</td>\n",
       "      <td>43</td>\n",
       "      <td>Seattle</td>\n",
       "      <td>400.00</td>\n",
       "      <td>High-Level</td>\n",
       "    </tr>\n",
       "    <tr>\n",
       "      <th>25115</th>\n",
       "      <td>319669.0</td>\n",
       "      <td>Wired Headphones</td>\n",
       "      <td>1.0</td>\n",
       "      <td>11.99</td>\n",
       "      <td>2003-12-19 10:39:00</td>\n",
       "      <td>778 River St, Dallas, TX 75001</td>\n",
       "      <td>2003</td>\n",
       "      <td>12</td>\n",
       "      <td>19</td>\n",
       "      <td>10</td>\n",
       "      <td>39</td>\n",
       "      <td>Dallas</td>\n",
       "      <td>11.99</td>\n",
       "      <td>Basic-Level</td>\n",
       "    </tr>\n",
       "    <tr>\n",
       "      <th>25116</th>\n",
       "      <td>319670.0</td>\n",
       "      <td>Bose SoundSport Headphones</td>\n",
       "      <td>1.0</td>\n",
       "      <td>99.99</td>\n",
       "      <td>2021-12-19 21:45:00</td>\n",
       "      <td>747 Chestnut St, Los Angeles, CA 90001</td>\n",
       "      <td>2021</td>\n",
       "      <td>12</td>\n",
       "      <td>19</td>\n",
       "      <td>21</td>\n",
       "      <td>45</td>\n",
       "      <td>Los Angeles</td>\n",
       "      <td>99.99</td>\n",
       "      <td>Basic-Level</td>\n",
       "    </tr>\n",
       "  </tbody>\n",
       "</table>\n",
       "<p>185686 rows × 14 columns</p>\n",
       "</div>"
      ],
      "text/plain": [
       "       Order_ID                     Product  Quantity_Ordered  Price_Each  \\\n",
       "0        141234                      iPhone               1.0      700.00   \n",
       "1        141235    Lightning Charging Cable               1.0       14.95   \n",
       "2        141236            Wired Headphones               2.0       11.99   \n",
       "3        141237            27in FHD Monitor               1.0      149.99   \n",
       "4        141238            Wired Headphones               1.0       11.99   \n",
       "...         ...                         ...               ...         ...   \n",
       "25112  319666.0    Lightning Charging Cable               1.0       14.95   \n",
       "25113  319667.0       AA Batteries (4-pack)               2.0        3.84   \n",
       "25114  319668.0             Vareebadd Phone               1.0      400.00   \n",
       "25115  319669.0            Wired Headphones               1.0       11.99   \n",
       "25116  319670.0  Bose SoundSport Headphones               1.0       99.99   \n",
       "\n",
       "               Order_Date                        Purchase_Address  Year  \\\n",
       "0     2019-01-22 21:25:00         944 Walnut St, Boston, MA 02215  2019   \n",
       "1     2019-01-28 14:15:00        185 Maple St, Portland, OR 97035  2019   \n",
       "2     2019-01-17 13:33:00   538 Adams St, San Francisco, CA 94016  2019   \n",
       "3     2019-01-05 20:33:00      738 10th St, Los Angeles, CA 90001  2019   \n",
       "4     2019-01-25 11:59:00           387 10th St, Austin, TX 73301  2019   \n",
       "...                   ...                                     ...   ...   \n",
       "25112 2011-12-19 20:58:00  14 Madison St, San Francisco, CA 94016  2011   \n",
       "25113 2001-12-19 12:01:00    549 Willow St, Los Angeles, CA 90001  2001   \n",
       "25114 2009-12-19 06:43:00        273 Wilson St, Seattle, WA 98101  2009   \n",
       "25115 2003-12-19 10:39:00          778 River St, Dallas, TX 75001  2003   \n",
       "25116 2021-12-19 21:45:00  747 Chestnut St, Los Angeles, CA 90001  2021   \n",
       "\n",
       "       Month  Day  Hour  Minute           City  Total_Sales Product_Level  \n",
       "0          1   22    21      25         Boston       700.00    High-Level  \n",
       "1          1   28    14      15       Portland        14.95   Basic-Level  \n",
       "2          1   17    13      33  San Francisco        23.98   Basic-Level  \n",
       "3          1    5    20      33    Los Angeles       149.99    High-Level  \n",
       "4          1   25    11      59         Austin        11.99   Basic-Level  \n",
       "...      ...  ...   ...     ...            ...          ...           ...  \n",
       "25112     12   19    20      58  San Francisco        14.95   Basic-Level  \n",
       "25113     12   19    12       1    Los Angeles         7.68   Basic-Level  \n",
       "25114     12   19     6      43        Seattle       400.00    High-Level  \n",
       "25115     12   19    10      39         Dallas        11.99   Basic-Level  \n",
       "25116     12   19    21      45    Los Angeles        99.99   Basic-Level  \n",
       "\n",
       "[185686 rows x 14 columns]"
      ]
     },
     "execution_count": 50,
     "metadata": {},
     "output_type": "execute_result"
    }
   ],
   "source": [
    "Sales_2019_cleaned"
   ]
  },
  {
   "cell_type": "markdown",
   "metadata": {},
   "source": [
    "Checking if all the data is only 2019 data as needed and expected "
   ]
  },
  {
   "cell_type": "code",
   "execution_count": 51,
   "metadata": {},
   "outputs": [
    {
     "name": "stdout",
     "output_type": "stream",
     "text": [
      "There are 142395 unique order dates.\n"
     ]
    }
   ],
   "source": [
    "# Get the number of unique dates in the 'Order_Date' column\n",
    "num_unique_dates = Sales_2019_cleaned[\"Order_Date\"].nunique()\n",
    "\n",
    "print(f\"There are {num_unique_dates} unique order dates.\")"
   ]
  },
  {
   "cell_type": "code",
   "execution_count": 52,
   "metadata": {},
   "outputs": [
    {
     "name": "stdout",
     "output_type": "stream",
     "text": [
      "The date range is from 2001-01-20 00:10:00 to 2031-12-19 23:53:00.\n"
     ]
    }
   ],
   "source": [
    "# Get the minimum and maximum date in the 'Order_Date' column\n",
    "min_date = Sales_2019_cleaned[\"Order_Date\"].min()\n",
    "max_date = Sales_2019_cleaned[\"Order_Date\"].max()\n",
    "\n",
    "print(f\"The date range is from {min_date} to {max_date}.\")"
   ]
  },
  {
   "cell_type": "code",
   "execution_count": 53,
   "metadata": {},
   "outputs": [
    {
     "name": "stdout",
     "output_type": "stream",
     "text": [
      "Number of rows where the Year is less than 2019: 58789\n",
      "Percentage of records with year less than 2019: 31.660437512790406%\n"
     ]
    }
   ],
   "source": [
    "# Sum of rows where the Year is less than 2019\n",
    "year_less_than_2019_count = (Sales_2019_cleaned[\"Year\"] < 2019).sum()\n",
    " \n",
    "# Print the result\n",
    "print(f\"Number of rows where the Year is less than 2019: {year_less_than_2019_count}\")\n",
    "\n",
    "# Calculate the percentage of such rows\n",
    "percentage = (year_less_than_2019_count / len(Sales_2019_cleaned)) * 100\n",
    "\n",
    "# Print the result\n",
    "print(f\"Percentage of records with year less than 2019: {percentage}%\")"
   ]
  },
  {
   "cell_type": "code",
   "execution_count": 54,
   "metadata": {},
   "outputs": [
    {
     "name": "stdout",
     "output_type": "stream",
     "text": [
      "Number of rows where the Year is greater than 2019: 38419\n",
      "Percentage of records with year greater than 2019: 20.690305138782676%\n"
     ]
    }
   ],
   "source": [
    "# Sum of rows where the Year is greater than 2019\n",
    "year_greater_than_2019_count = (Sales_2019_cleaned[\"Year\"] > 2019).sum()\n",
    " \n",
    "# Print the result\n",
    "print(f\"Number of rows where the Year is greater than 2019: {year_greater_than_2019_count}\")\n",
    "\n",
    "# Calculate the percentage of such rows\n",
    "percentage = (year_greater_than_2019_count / len(Sales_2019_cleaned)) * 100\n",
    "\n",
    "# Print the result\n",
    "print(f\"Percentage of records with year greater than 2019: {percentage}%\")"
   ]
  },
  {
   "cell_type": "code",
   "execution_count": 55,
   "metadata": {},
   "outputs": [
    {
     "name": "stdout",
     "output_type": "stream",
     "text": [
      "Number of rows where the Year is equal to 2019: 88478\n",
      "Percentage of records with year equal to 2019: 47.649257348426914%\n"
     ]
    }
   ],
   "source": [
    "# Sum of rows where the Year equal to 2019\n",
    "year_equal_to_2019_count = (Sales_2019_cleaned[\"Year\"] ==2019).sum()\n",
    " \n",
    "# Print the result\n",
    "print(f\"Number of rows where the Year is equal to 2019: {year_equal_to_2019_count}\")\n",
    "\n",
    "# Calculate the percentage of such rows\n",
    "percentage = (year_equal_to_2019_count / len(Sales_2019_cleaned)) * 100\n",
    "\n",
    "# Print the result\n",
    "print(f\"Percentage of records with year equal to 2019: {percentage}%\")"
   ]
  },
  {
   "cell_type": "code",
   "execution_count": 56,
   "metadata": {},
   "outputs": [
    {
     "name": "stdout",
     "output_type": "stream",
     "text": [
      "total_count: 185686\n"
     ]
    }
   ],
   "source": [
    "# Sum all three counts\n",
    "total_count = year_less_than_2019_count + year_greater_than_2019_count + year_equal_to_2019_count\n",
    "\n",
    "# Print the result\n",
    "print(f\"total_count: {total_count}\")"
   ]
  },
  {
   "cell_type": "markdown",
   "metadata": {},
   "source": [
    "Retrieve only 2019 data"
   ]
  },
  {
   "cell_type": "code",
   "execution_count": 57,
   "metadata": {},
   "outputs": [
    {
     "data": {
      "text/html": [
       "<div>\n",
       "<style scoped>\n",
       "    .dataframe tbody tr th:only-of-type {\n",
       "        vertical-align: middle;\n",
       "    }\n",
       "\n",
       "    .dataframe tbody tr th {\n",
       "        vertical-align: top;\n",
       "    }\n",
       "\n",
       "    .dataframe thead th {\n",
       "        text-align: right;\n",
       "    }\n",
       "</style>\n",
       "<table border=\"1\" class=\"dataframe\">\n",
       "  <thead>\n",
       "    <tr style=\"text-align: right;\">\n",
       "      <th></th>\n",
       "      <th>Order_ID</th>\n",
       "      <th>Product</th>\n",
       "      <th>Quantity_Ordered</th>\n",
       "      <th>Price_Each</th>\n",
       "      <th>Order_Date</th>\n",
       "      <th>Purchase_Address</th>\n",
       "      <th>Year</th>\n",
       "      <th>Month</th>\n",
       "      <th>Day</th>\n",
       "      <th>Hour</th>\n",
       "      <th>Minute</th>\n",
       "      <th>City</th>\n",
       "      <th>Total_Sales</th>\n",
       "      <th>Product_Level</th>\n",
       "    </tr>\n",
       "  </thead>\n",
       "  <tbody>\n",
       "    <tr>\n",
       "      <th>0</th>\n",
       "      <td>141234</td>\n",
       "      <td>iPhone</td>\n",
       "      <td>1.0</td>\n",
       "      <td>700.00</td>\n",
       "      <td>2019-01-22 21:25:00</td>\n",
       "      <td>944 Walnut St, Boston, MA 02215</td>\n",
       "      <td>2019</td>\n",
       "      <td>1</td>\n",
       "      <td>22</td>\n",
       "      <td>21</td>\n",
       "      <td>25</td>\n",
       "      <td>Boston</td>\n",
       "      <td>700.00</td>\n",
       "      <td>High-Level</td>\n",
       "    </tr>\n",
       "    <tr>\n",
       "      <th>1</th>\n",
       "      <td>141235</td>\n",
       "      <td>Lightning Charging Cable</td>\n",
       "      <td>1.0</td>\n",
       "      <td>14.95</td>\n",
       "      <td>2019-01-28 14:15:00</td>\n",
       "      <td>185 Maple St, Portland, OR 97035</td>\n",
       "      <td>2019</td>\n",
       "      <td>1</td>\n",
       "      <td>28</td>\n",
       "      <td>14</td>\n",
       "      <td>15</td>\n",
       "      <td>Portland</td>\n",
       "      <td>14.95</td>\n",
       "      <td>Basic-Level</td>\n",
       "    </tr>\n",
       "    <tr>\n",
       "      <th>2</th>\n",
       "      <td>141236</td>\n",
       "      <td>Wired Headphones</td>\n",
       "      <td>2.0</td>\n",
       "      <td>11.99</td>\n",
       "      <td>2019-01-17 13:33:00</td>\n",
       "      <td>538 Adams St, San Francisco, CA 94016</td>\n",
       "      <td>2019</td>\n",
       "      <td>1</td>\n",
       "      <td>17</td>\n",
       "      <td>13</td>\n",
       "      <td>33</td>\n",
       "      <td>San Francisco</td>\n",
       "      <td>23.98</td>\n",
       "      <td>Basic-Level</td>\n",
       "    </tr>\n",
       "    <tr>\n",
       "      <th>3</th>\n",
       "      <td>141237</td>\n",
       "      <td>27in FHD Monitor</td>\n",
       "      <td>1.0</td>\n",
       "      <td>149.99</td>\n",
       "      <td>2019-01-05 20:33:00</td>\n",
       "      <td>738 10th St, Los Angeles, CA 90001</td>\n",
       "      <td>2019</td>\n",
       "      <td>1</td>\n",
       "      <td>5</td>\n",
       "      <td>20</td>\n",
       "      <td>33</td>\n",
       "      <td>Los Angeles</td>\n",
       "      <td>149.99</td>\n",
       "      <td>High-Level</td>\n",
       "    </tr>\n",
       "    <tr>\n",
       "      <th>4</th>\n",
       "      <td>141238</td>\n",
       "      <td>Wired Headphones</td>\n",
       "      <td>1.0</td>\n",
       "      <td>11.99</td>\n",
       "      <td>2019-01-25 11:59:00</td>\n",
       "      <td>387 10th St, Austin, TX 73301</td>\n",
       "      <td>2019</td>\n",
       "      <td>1</td>\n",
       "      <td>25</td>\n",
       "      <td>11</td>\n",
       "      <td>59</td>\n",
       "      <td>Austin</td>\n",
       "      <td>11.99</td>\n",
       "      <td>Basic-Level</td>\n",
       "    </tr>\n",
       "    <tr>\n",
       "      <th>...</th>\n",
       "      <td>...</td>\n",
       "      <td>...</td>\n",
       "      <td>...</td>\n",
       "      <td>...</td>\n",
       "      <td>...</td>\n",
       "      <td>...</td>\n",
       "      <td>...</td>\n",
       "      <td>...</td>\n",
       "      <td>...</td>\n",
       "      <td>...</td>\n",
       "      <td>...</td>\n",
       "      <td>...</td>\n",
       "      <td>...</td>\n",
       "      <td>...</td>\n",
       "    </tr>\n",
       "    <tr>\n",
       "      <th>24899</th>\n",
       "      <td>319460.0</td>\n",
       "      <td>Bose SoundSport Headphones</td>\n",
       "      <td>1.0</td>\n",
       "      <td>99.99</td>\n",
       "      <td>2019-12-19 19:31:00</td>\n",
       "      <td>50 Lake St, Boston, MA 02215</td>\n",
       "      <td>2019</td>\n",
       "      <td>12</td>\n",
       "      <td>19</td>\n",
       "      <td>19</td>\n",
       "      <td>31</td>\n",
       "      <td>Boston</td>\n",
       "      <td>99.99</td>\n",
       "      <td>Basic-Level</td>\n",
       "    </tr>\n",
       "    <tr>\n",
       "      <th>24907</th>\n",
       "      <td>319468.0</td>\n",
       "      <td>Wired Headphones</td>\n",
       "      <td>1.0</td>\n",
       "      <td>11.99</td>\n",
       "      <td>2019-12-19 10:35:00</td>\n",
       "      <td>245 Wilson St, Los Angeles, CA 90001</td>\n",
       "      <td>2019</td>\n",
       "      <td>12</td>\n",
       "      <td>19</td>\n",
       "      <td>10</td>\n",
       "      <td>35</td>\n",
       "      <td>Los Angeles</td>\n",
       "      <td>11.99</td>\n",
       "      <td>Basic-Level</td>\n",
       "    </tr>\n",
       "    <tr>\n",
       "      <th>25022</th>\n",
       "      <td>319579.0</td>\n",
       "      <td>Lightning Charging Cable</td>\n",
       "      <td>1.0</td>\n",
       "      <td>14.95</td>\n",
       "      <td>2019-12-19 19:28:00</td>\n",
       "      <td>285 4th St, Los Angeles, CA 90001</td>\n",
       "      <td>2019</td>\n",
       "      <td>12</td>\n",
       "      <td>19</td>\n",
       "      <td>19</td>\n",
       "      <td>28</td>\n",
       "      <td>Los Angeles</td>\n",
       "      <td>14.95</td>\n",
       "      <td>Basic-Level</td>\n",
       "    </tr>\n",
       "    <tr>\n",
       "      <th>25064</th>\n",
       "      <td>319619.0</td>\n",
       "      <td>AAA Batteries (4-pack)</td>\n",
       "      <td>1.0</td>\n",
       "      <td>2.99</td>\n",
       "      <td>2019-12-19 21:09:00</td>\n",
       "      <td>908 2nd St, Los Angeles, CA 90001</td>\n",
       "      <td>2019</td>\n",
       "      <td>12</td>\n",
       "      <td>19</td>\n",
       "      <td>21</td>\n",
       "      <td>9</td>\n",
       "      <td>Los Angeles</td>\n",
       "      <td>2.99</td>\n",
       "      <td>Basic-Level</td>\n",
       "    </tr>\n",
       "    <tr>\n",
       "      <th>25082</th>\n",
       "      <td>319636.0</td>\n",
       "      <td>34in Ultrawide Monitor</td>\n",
       "      <td>1.0</td>\n",
       "      <td>379.99</td>\n",
       "      <td>2019-12-19 18:21:00</td>\n",
       "      <td>829 6th St, Boston, MA 02215</td>\n",
       "      <td>2019</td>\n",
       "      <td>12</td>\n",
       "      <td>19</td>\n",
       "      <td>18</td>\n",
       "      <td>21</td>\n",
       "      <td>Boston</td>\n",
       "      <td>379.99</td>\n",
       "      <td>High-Level</td>\n",
       "    </tr>\n",
       "  </tbody>\n",
       "</table>\n",
       "<p>88478 rows × 14 columns</p>\n",
       "</div>"
      ],
      "text/plain": [
       "       Order_ID                     Product  Quantity_Ordered  Price_Each  \\\n",
       "0        141234                      iPhone               1.0      700.00   \n",
       "1        141235    Lightning Charging Cable               1.0       14.95   \n",
       "2        141236            Wired Headphones               2.0       11.99   \n",
       "3        141237            27in FHD Monitor               1.0      149.99   \n",
       "4        141238            Wired Headphones               1.0       11.99   \n",
       "...         ...                         ...               ...         ...   \n",
       "24899  319460.0  Bose SoundSport Headphones               1.0       99.99   \n",
       "24907  319468.0            Wired Headphones               1.0       11.99   \n",
       "25022  319579.0    Lightning Charging Cable               1.0       14.95   \n",
       "25064  319619.0      AAA Batteries (4-pack)               1.0        2.99   \n",
       "25082  319636.0      34in Ultrawide Monitor               1.0      379.99   \n",
       "\n",
       "               Order_Date                       Purchase_Address  Year  Month  \\\n",
       "0     2019-01-22 21:25:00        944 Walnut St, Boston, MA 02215  2019      1   \n",
       "1     2019-01-28 14:15:00       185 Maple St, Portland, OR 97035  2019      1   \n",
       "2     2019-01-17 13:33:00  538 Adams St, San Francisco, CA 94016  2019      1   \n",
       "3     2019-01-05 20:33:00     738 10th St, Los Angeles, CA 90001  2019      1   \n",
       "4     2019-01-25 11:59:00          387 10th St, Austin, TX 73301  2019      1   \n",
       "...                   ...                                    ...   ...    ...   \n",
       "24899 2019-12-19 19:31:00           50 Lake St, Boston, MA 02215  2019     12   \n",
       "24907 2019-12-19 10:35:00   245 Wilson St, Los Angeles, CA 90001  2019     12   \n",
       "25022 2019-12-19 19:28:00      285 4th St, Los Angeles, CA 90001  2019     12   \n",
       "25064 2019-12-19 21:09:00      908 2nd St, Los Angeles, CA 90001  2019     12   \n",
       "25082 2019-12-19 18:21:00           829 6th St, Boston, MA 02215  2019     12   \n",
       "\n",
       "       Day  Hour  Minute           City  Total_Sales Product_Level  \n",
       "0       22    21      25         Boston       700.00    High-Level  \n",
       "1       28    14      15       Portland        14.95   Basic-Level  \n",
       "2       17    13      33  San Francisco        23.98   Basic-Level  \n",
       "3        5    20      33    Los Angeles       149.99    High-Level  \n",
       "4       25    11      59         Austin        11.99   Basic-Level  \n",
       "...    ...   ...     ...            ...          ...           ...  \n",
       "24899   19    19      31         Boston        99.99   Basic-Level  \n",
       "24907   19    10      35    Los Angeles        11.99   Basic-Level  \n",
       "25022   19    19      28    Los Angeles        14.95   Basic-Level  \n",
       "25064   19    21       9    Los Angeles         2.99   Basic-Level  \n",
       "25082   19    18      21         Boston       379.99    High-Level  \n",
       "\n",
       "[88478 rows x 14 columns]"
      ]
     },
     "execution_count": 57,
     "metadata": {},
     "output_type": "execute_result"
    }
   ],
   "source": [
    "# Create a new DataFrame to store final cleaned data\n",
    "Final_Sales_2019 =Sales_2019_cleaned.copy()\n",
    "\n",
    "# Ensure the 'Order_Date' column is in datetime format\n",
    "Final_Sales_2019['Order_Date'] = pd.to_datetime(Sales_2019_cleaned['Order_Date'], errors='coerce')\n",
    "\n",
    "# Extract rows where the 'Order_Date' year is 2019\n",
    "Final_Sales_2019 = Sales_2019_cleaned[Sales_2019_cleaned['Order_Date'].dt.year == 2019]\n",
    "\n",
    "# Display the filtered data\n",
    "Final_Sales_2019"
   ]
  },
  {
   "cell_type": "markdown",
   "metadata": {},
   "source": [
    "**Observations & Comments for the Data Preparation stage**\n",
    "\n",
    "The dataset had alot of inconsistencies. Cleaning was done by:\n",
    "\n",
    "Convert the Order_Date to datetime.\n",
    "\n",
    "Extract the Minutes, Hour, Day, Month and Year from the Order_Date\n",
    "\n",
    "Drop empty rows in each column.\n",
    "\n",
    "Convert the Price_Each, Quantity_Ordered to numeric values.\n",
    "\n",
    "Convert the Price_Each to Dollars and 2 decimal places.\n",
    "\n",
    "Create a new column by for Total_Sales by multiplying the Price_Each vs the Quantity_Ordered.\n",
    "\n",
    "Extract the Cities from the Purchase_Address\n",
    "\n",
    "Create a new column for the Product level by categorizing the Price of the Product as High Level (greater than \n",
    "99.99) and Basic Level less that 99.99\n",
    "\n",
    "Found out the data had sales from the year 2001 to 2031. Extracted only sales from 2019 to analyze as requested by the client."
   ]
  },
  {
   "cell_type": "code",
   "execution_count": 58,
   "metadata": {},
   "outputs": [
    {
     "name": "stdout",
     "output_type": "stream",
     "text": [
      "<class 'pandas.core.frame.DataFrame'>\n",
      "Index: 88478 entries, 0 to 25082\n",
      "Data columns (total 14 columns):\n",
      " #   Column            Non-Null Count  Dtype         \n",
      "---  ------            --------------  -----         \n",
      " 0   Order_ID          88478 non-null  object        \n",
      " 1   Product           88478 non-null  object        \n",
      " 2   Quantity_Ordered  88478 non-null  float64       \n",
      " 3   Price_Each        88478 non-null  float64       \n",
      " 4   Order_Date        88478 non-null  datetime64[ns]\n",
      " 5   Purchase_Address  88478 non-null  object        \n",
      " 6   Year              88478 non-null  int32         \n",
      " 7   Month             88478 non-null  int32         \n",
      " 8   Day               88478 non-null  int32         \n",
      " 9   Hour              88478 non-null  int32         \n",
      " 10  Minute            88478 non-null  int32         \n",
      " 11  City              88478 non-null  object        \n",
      " 12  Total_Sales       88478 non-null  float64       \n",
      " 13  Product_Level     88478 non-null  object        \n",
      "dtypes: datetime64[ns](1), float64(3), int32(5), object(5)\n",
      "memory usage: 8.4+ MB\n"
     ]
    }
   ],
   "source": [
    "Final_Sales_2019.info()"
   ]
  },
  {
   "cell_type": "markdown",
   "metadata": {},
   "source": [
    "####  **Hypothesis Testing**"
   ]
  },
  {
   "cell_type": "code",
   "execution_count": 59,
   "metadata": {},
   "outputs": [
    {
     "name": "stdout",
     "output_type": "stream",
     "text": [
      "Reject the null hypothesis. There is a significant difference in revenue between high-level and basic-level products.\n"
     ]
    }
   ],
   "source": [
    "# Test the hypothesis using ANOVA (Analysis of Variance)\n",
    "\n",
    "\n",
    "# Step 2: Perform ANOVA\n",
    "# Split the data into two groups based on 'Product_Level'\n",
    "high_level_products = Final_Sales_2019[Final_Sales_2019['Product_Level'] == 'High-Level']['Total_Sales']\n",
    "basic_level_products = Final_Sales_2019[Final_Sales_2019['Product_Level'] == 'Basic-Level']['Total_Sales']\n",
    "\n",
    "# Perform ANOVA\n",
    "f_value, p_value = stats.f_oneway(high_level_products, basic_level_products)\n",
    "\n",
    "# Step 3: Interpret the results\n",
    "alpha = 0.05  # Significance level\n",
    "\n",
    "if p_value < alpha:\n",
    "    print(\"Reject the null hypothesis. There is a significant difference in revenue between high-level and basic-level products.\")\n",
    "else:\n",
    "    print(\"Fail to reject the null hypothesis. There is no significant difference in revenue between high-level and basic-level products.\")"
   ]
  },
  {
   "cell_type": "markdown",
   "metadata": {},
   "source": [
    "**Comments**\n",
    "\n",
    "The p-value is less than 0.05, it indicates that there is a significant difference in revenue between high-level and basic-level products.\n",
    "\n",
    "Interpretation of the Outcome: The result indicates that there is a statistically significant difference in the total sales generated by high-level products compared to basic-level products.\n",
    "\n",
    "Significance: This suggests that high-level products priced above 99.99 genrate more sale compared to low level products priced below 99.99.  The sales difference is not due to random chance but rather indicates a real effect."
   ]
  },
  {
   "cell_type": "markdown",
   "metadata": {},
   "source": [
    "**EDA VISUALS**"
   ]
  },
  {
   "cell_type": "code",
   "execution_count": 60,
   "metadata": {},
   "outputs": [
    {
     "data": {
      "text/html": [
       "<div>\n",
       "<style scoped>\n",
       "    .dataframe tbody tr th:only-of-type {\n",
       "        vertical-align: middle;\n",
       "    }\n",
       "\n",
       "    .dataframe tbody tr th {\n",
       "        vertical-align: top;\n",
       "    }\n",
       "\n",
       "    .dataframe thead th {\n",
       "        text-align: right;\n",
       "    }\n",
       "</style>\n",
       "<table border=\"1\" class=\"dataframe\">\n",
       "  <thead>\n",
       "    <tr style=\"text-align: right;\">\n",
       "      <th></th>\n",
       "      <th>Quantity_Ordered</th>\n",
       "      <th>Price_Each</th>\n",
       "      <th>Order_Date</th>\n",
       "      <th>Year</th>\n",
       "      <th>Month</th>\n",
       "      <th>Day</th>\n",
       "      <th>Hour</th>\n",
       "      <th>Minute</th>\n",
       "      <th>Total_Sales</th>\n",
       "    </tr>\n",
       "  </thead>\n",
       "  <tbody>\n",
       "    <tr>\n",
       "      <th>count</th>\n",
       "      <td>88478.000000</td>\n",
       "      <td>88478.000000</td>\n",
       "      <td>88478</td>\n",
       "      <td>88478.0</td>\n",
       "      <td>88478.000000</td>\n",
       "      <td>88478.000000</td>\n",
       "      <td>88478.000000</td>\n",
       "      <td>88478.000000</td>\n",
       "      <td>88478.000000</td>\n",
       "    </tr>\n",
       "    <tr>\n",
       "      <th>mean</th>\n",
       "      <td>1.125048</td>\n",
       "      <td>185.523855</td>\n",
       "      <td>2019-04-15 01:32:17.644386048</td>\n",
       "      <td>2019.0</td>\n",
       "      <td>3.949276</td>\n",
       "      <td>15.732148</td>\n",
       "      <td>14.408474</td>\n",
       "      <td>29.552375</td>\n",
       "      <td>186.644234</td>\n",
       "    </tr>\n",
       "    <tr>\n",
       "      <th>min</th>\n",
       "      <td>1.000000</td>\n",
       "      <td>2.990000</td>\n",
       "      <td>2019-01-01 03:07:00</td>\n",
       "      <td>2019.0</td>\n",
       "      <td>1.000000</td>\n",
       "      <td>1.000000</td>\n",
       "      <td>0.000000</td>\n",
       "      <td>0.000000</td>\n",
       "      <td>2.990000</td>\n",
       "    </tr>\n",
       "    <tr>\n",
       "      <th>25%</th>\n",
       "      <td>1.000000</td>\n",
       "      <td>11.950000</td>\n",
       "      <td>2019-03-02 05:18:15</td>\n",
       "      <td>2019.0</td>\n",
       "      <td>3.000000</td>\n",
       "      <td>8.000000</td>\n",
       "      <td>11.000000</td>\n",
       "      <td>15.000000</td>\n",
       "      <td>11.950000</td>\n",
       "    </tr>\n",
       "    <tr>\n",
       "      <th>50%</th>\n",
       "      <td>1.000000</td>\n",
       "      <td>14.950000</td>\n",
       "      <td>2019-04-13 11:40:30</td>\n",
       "      <td>2019.0</td>\n",
       "      <td>4.000000</td>\n",
       "      <td>16.000000</td>\n",
       "      <td>15.000000</td>\n",
       "      <td>30.000000</td>\n",
       "      <td>14.950000</td>\n",
       "    </tr>\n",
       "    <tr>\n",
       "      <th>75%</th>\n",
       "      <td>1.000000</td>\n",
       "      <td>150.000000</td>\n",
       "      <td>2019-05-22 10:11:30</td>\n",
       "      <td>2019.0</td>\n",
       "      <td>5.000000</td>\n",
       "      <td>23.000000</td>\n",
       "      <td>19.000000</td>\n",
       "      <td>45.000000</td>\n",
       "      <td>150.000000</td>\n",
       "    </tr>\n",
       "    <tr>\n",
       "      <th>max</th>\n",
       "      <td>9.000000</td>\n",
       "      <td>1700.000000</td>\n",
       "      <td>2019-12-19 23:56:00</td>\n",
       "      <td>2019.0</td>\n",
       "      <td>12.000000</td>\n",
       "      <td>31.000000</td>\n",
       "      <td>23.000000</td>\n",
       "      <td>59.000000</td>\n",
       "      <td>3400.000000</td>\n",
       "    </tr>\n",
       "    <tr>\n",
       "      <th>std</th>\n",
       "      <td>0.439837</td>\n",
       "      <td>333.119010</td>\n",
       "      <td>NaN</td>\n",
       "      <td>0.0</td>\n",
       "      <td>1.982815</td>\n",
       "      <td>8.554970</td>\n",
       "      <td>5.419381</td>\n",
       "      <td>17.339158</td>\n",
       "      <td>333.581138</td>\n",
       "    </tr>\n",
       "  </tbody>\n",
       "</table>\n",
       "</div>"
      ],
      "text/plain": [
       "       Quantity_Ordered    Price_Each                     Order_Date     Year  \\\n",
       "count      88478.000000  88478.000000                          88478  88478.0   \n",
       "mean           1.125048    185.523855  2019-04-15 01:32:17.644386048   2019.0   \n",
       "min            1.000000      2.990000            2019-01-01 03:07:00   2019.0   \n",
       "25%            1.000000     11.950000            2019-03-02 05:18:15   2019.0   \n",
       "50%            1.000000     14.950000            2019-04-13 11:40:30   2019.0   \n",
       "75%            1.000000    150.000000            2019-05-22 10:11:30   2019.0   \n",
       "max            9.000000   1700.000000            2019-12-19 23:56:00   2019.0   \n",
       "std            0.439837    333.119010                            NaN      0.0   \n",
       "\n",
       "              Month           Day          Hour        Minute   Total_Sales  \n",
       "count  88478.000000  88478.000000  88478.000000  88478.000000  88478.000000  \n",
       "mean       3.949276     15.732148     14.408474     29.552375    186.644234  \n",
       "min        1.000000      1.000000      0.000000      0.000000      2.990000  \n",
       "25%        3.000000      8.000000     11.000000     15.000000     11.950000  \n",
       "50%        4.000000     16.000000     15.000000     30.000000     14.950000  \n",
       "75%        5.000000     23.000000     19.000000     45.000000    150.000000  \n",
       "max       12.000000     31.000000     23.000000     59.000000   3400.000000  \n",
       "std        1.982815      8.554970      5.419381     17.339158    333.581138  "
      ]
     },
     "execution_count": 60,
     "metadata": {},
     "output_type": "execute_result"
    }
   ],
   "source": [
    "# Summary Statistics for numerical Columns\n",
    "\n",
    "Final_Sales_2019.describe()"
   ]
  },
  {
   "cell_type": "markdown",
   "metadata": {},
   "source": [
    "Univariate: Distribution of Total Sales"
   ]
  },
  {
   "cell_type": "code",
   "execution_count": 61,
   "metadata": {},
   "outputs": [
    {
     "data": {
      "image/png": "[encoded data removed]",
      "text/plain": [
       "<Figure size 1000x600 with 1 Axes>"
      ]
     },
     "metadata": {},
     "output_type": "display_data"
    }
   ],
   "source": [
    "# Create a figure and axes\n",
    "fig, ax = plt.subplots(figsize=(10, 6))\n",
    "\n",
    "# Plot a histogram of the 'Total_Sales' column\n",
    "sns.histplot(Final_Sales_2019['Total_Sales'], ax=ax)\n",
    "\n",
    "# Set the title and labels\n",
    "ax.set_title('Distribution of Total Sales')\n",
    "ax.set_xlabel('Total Sales')\n",
    "ax.set_ylabel('Frequency')\n",
    "\n",
    "# Display the figure\n",
    "plt.show()"
   ]
  },
  {
   "cell_type": "markdown",
   "metadata": {},
   "source": [
    "The histogram plot above visualizes the distribution of total sales, showing the frequency of sales values. From the histogram, we can observe that the majority of sales fall within a certain range, with some outliers on the higher end.\n",
    "\n",
    "The histogram plot helps us understand the central tendency (mean) and spread (standard deviation) of the total sales data. It also provides insights into the skewness and kurtosis of the distribution, which can help us identify any potential issues or patterns in the data.\n",
    "\n",
    "In this case, the distribution of total sales appears to be right-skewed, indicating that the mean is greater than the median. This suggests that there are more sales with higher values than lower values. The presence of outliers on the higher end indicates that there are some sales with significantly higher revenue compared to the majority of sales."
   ]
  },
  {
   "cell_type": "markdown",
   "metadata": {},
   "source": [
    "Bivariate: Scatter plot of Total Sales vs Quantity Ordered"
   ]
  },
  {
   "cell_type": "code",
   "execution_count": 62,
   "metadata": {},
   "outputs": [
    {
     "data": {
      "image/png": "[encoded data removed]",
      "text/plain": [
       "<Figure size 1000x600 with 1 Axes>"
      ]
     },
     "metadata": {},
     "output_type": "display_data"
    }
   ],
   "source": [
    "# Set plot size\n",
    "plt.figure(figsize=(10, 6))\n",
    "\n",
    "# Create a scatter plot of Total Sales vs Quantity Ordered\n",
    "scatter_plot = sns.scatterplot(x='Quantity_Ordered', y='Total_Sales', data=Final_Sales_2019)\n",
    "\n",
    "# Customize the layout\n",
    "plt.title('Total Sales vs Quantity Ordered', fontsize=16)\n",
    "plt.xlabel('Quantity Ordered', fontsize=12)\n",
    "plt.ylabel('Total Sales ($)', fontsize=12)\n",
    "\n",
    "# Optional: Add grid and adjust plot limits for better visibility\n",
    "plt.grid(True)\n",
    "plt.xlim(0, Final_Sales_2019['Quantity_Ordered'].max() + 1)  # Adjust x-axis to fit data better\n",
    "plt.ylim(0, Final_Sales_2019['Total_Sales'].max() + 1000)  # Adjust y-axis for some padding\n",
    "\n",
    "# Show the scatter plot\n",
    "plt.show()\n"
   ]
  },
  {
   "cell_type": "markdown",
   "metadata": {},
   "source": [
    "From the scatter plot, we can see that there is a positive correlation between the total sales and the quantity ordered. As the quantity ordered increases, the total sales tend to increase as well. This relationship suggests that the sales are directly proportional to the quantity ordered."
   ]
  },
  {
   "cell_type": "markdown",
   "metadata": {},
   "source": [
    "Correlation Matrix"
   ]
  },
  {
   "cell_type": "code",
   "execution_count": 63,
   "metadata": {},
   "outputs": [
    {
     "data": {
      "image/png": "[encoded data removed]",
      "text/plain": [
       "<Figure size 1000x800 with 2 Axes>"
      ]
     },
     "metadata": {},
     "output_type": "display_data"
    }
   ],
   "source": [
    "# Select only numeric columns from Final_Sales_2019\n",
    "numeric_data = Final_Sales_2019.select_dtypes(include=['float64', 'int64'])\n",
    "\n",
    "\n",
    "# Compute the correlation matrix for the numeric columns\n",
    "correlation_matrix = numeric_data.corr()\n",
    "\n",
    "# Set the figure size\n",
    "plt.figure(figsize=(10, 8))\n",
    "\n",
    "# Create a heatmap using seaborn\n",
    "sns.heatmap(correlation_matrix, annot=True, cmap='coolwarm', linewidths=0.5)\n",
    "\n",
    "\n",
    "# Set plot title\n",
    "plt.title('Correlation Matrix for Final_Sales_2019')\n",
    "\n",
    "# Show the plot\n",
    "plt.show()\n"
   ]
  },
  {
   "cell_type": "markdown",
   "metadata": {},
   "source": [
    "Comments\n",
    "\n",
    "The correlation matrix helps us understand the relationships between multiple variables in the dataset. In this case, the correlation matrix shows a strong positive correlation (0.97) between Total_Sales and Quantity_Ordered. This indicates that the two variables are highly correlated, and changes in one variable can be expected to result in corresponding changes in the other variable."
   ]
  },
  {
   "cell_type": "markdown",
   "metadata": {},
   "source": [
    "Total Sale by Product"
   ]
  },
  {
   "cell_type": "code",
   "execution_count": 64,
   "metadata": {},
   "outputs": [
    {
     "data": {
      "image/png": "[encoded data removed]",
      "text/plain": [
       "<Figure size 1000x600 with 1 Axes>"
      ]
     },
     "metadata": {},
     "output_type": "display_data"
    }
   ],
   "source": [
    "# Group by product and calculate total sales for each product\n",
    "product_sales = Final_Sales_2019.groupby('Product')['Total_Sales'].sum().sort_values(ascending=False).reset_index()\n",
    "\n",
    "# Create a Seaborn bar plot\n",
    "plt.figure(figsize=(10, 6))\n",
    "sns.barplot(x='Product', y='Total_Sales', data=product_sales, palette='Blues_d')\n",
    "\n",
    "# Update plot layout\n",
    "plt.title('Total Sales by Product')\n",
    "plt.xlabel('Product')\n",
    "plt.ylabel('Total Sales ($)')\n",
    "plt.xticks(rotation=75)  # Rotate x-axis labels\n",
    "\n",
    "# Show the plot\n",
    "plt.tight_layout()\n",
    "plt.show()"
   ]
  },
  {
   "cell_type": "markdown",
   "metadata": {},
   "source": [
    "Comments\n",
    "\n",
    "The bar chart visualizes the total sales for each product, allowing us to compare the sales generated by different products. From the chart, we can identify which products have the highest and lowest sales. In this case, the product with the highest sales is Macbook Pro Laptop followed by Iphone, ThinkPad Laptop and AAA Batteries (4 Pack) has the lowest sales."
   ]
  },
  {
   "cell_type": "markdown",
   "metadata": {},
   "source": [
    "Product Level Distribution"
   ]
  },
  {
   "cell_type": "code",
   "execution_count": 65,
   "metadata": {},
   "outputs": [
    {
     "data": {
      "image/png": "[encoded data removed]",
      "text/plain": [
       "<Figure size 800x800 with 1 Axes>"
      ]
     },
     "metadata": {},
     "output_type": "display_data"
    }
   ],
   "source": [
    "# Group by product level and calculate total sales\n",
    "product_level_sales = Final_Sales_2019.groupby('Product_Level')['Total_Sales'].sum().reset_index()\n",
    "\n",
    "# Create a pie chart\n",
    "plt.figure(figsize=(8, 8))\n",
    "\n",
    "# Plot pie chart\n",
    "plt.pie(\n",
    "    product_level_sales['Total_Sales'], \n",
    "    labels=product_level_sales['Product_Level'], \n",
    "    autopct='%1.1f%%', \n",
    "    startangle=140, \n",
    "    explode=(0.1, 0)  # Explode the first slice slightly\n",
    ")\n",
    "\n",
    "# Update layout\n",
    "plt.title('Total Sales Distribution by Product Level')\n",
    "\n",
    "# Show the plot\n",
    "plt.show()"
   ]
  },
  {
   "cell_type": "markdown",
   "metadata": {},
   "source": [
    "Comments\n",
    "\n",
    "The pie chart represents the total sales distribution by product level (High-Level and Basic-Level). From the chart, majority of sales come from high-level products, with a smaller proportion coming from basic-level products. This distribution can help us understand the sales patterns and preferences of the customers."
   ]
  },
  {
   "cell_type": "markdown",
   "metadata": {},
   "source": [
    "Monthly Sales Trend"
   ]
  },
  {
   "cell_type": "code",
   "execution_count": 66,
   "metadata": {},
   "outputs": [
    {
     "data": {
      "image/png": "[encoded data removed]",
      "text/plain": [
       "<Figure size 1200x600 with 1 Axes>"
      ]
     },
     "metadata": {},
     "output_type": "display_data"
    }
   ],
   "source": [
    "# Ensure that 'Order_Date' is in datetime format\n",
    "Final_Sales_2019['Order_Date'] = pd.to_datetime(Final_Sales_2019['Order_Date'], errors='coerce')\n",
    "Final_Sales_2019['Month'] = Final_Sales_2019['Order_Date'].dt.month\n",
    "\n",
    "# Calculate monthly sales\n",
    "monthly_sales = Final_Sales_2019.groupby('Month')['Total_Sales'].sum().reset_index()\n",
    "monthly_sales.columns = ['Month', 'Total_Sales']\n",
    "\n",
    "# Plot total sales by month using Seaborn\n",
    "plt.figure(figsize=(12, 6))\n",
    "sns.lineplot(data=monthly_sales, x='Month', y='Total_Sales', marker='o', color='b')\n",
    "plt.title('Total Sales by Month in 2019')\n",
    "plt.xlabel('Month')\n",
    "plt.ylabel('Total Sales ($)')\n",
    "plt.xticks(ticks=range(1, 13), labels=['Jan', 'Feb', 'Mar', 'Apr', 'May', 'Jun', \n",
    "'Jul', 'Aug', 'Sep', 'Oct', 'Nov', 'Dec'])\n",
    "plt.grid(True)\n",
    "plt.tight_layout()\n",
    "plt.show()"
   ]
  },
  {
   "cell_type": "markdown",
   "metadata": {},
   "source": [
    "Comments\n",
    "\n",
    "The line chart shows the total sales per month, providing insights into the sales trends over time. From the chart,we can identify any seasonal patterns, trends, or anomalies in the sales data. The sale started increasing from January to April and started declining from May to June. The sales rapidily declined in July to September and slightly increased October to December."
   ]
  },
  {
   "cell_type": "markdown",
   "metadata": {},
   "source": [
    "Weekly Sales Trend"
   ]
  },
  {
   "cell_type": "code",
   "execution_count": 67,
   "metadata": {},
   "outputs": [
    {
     "data": {
      "image/png": "[encoded data removed]",
      "text/plain": [
       "<Figure size 1200x600 with 1 Axes>"
      ]
     },
     "metadata": {},
     "output_type": "display_data"
    }
   ],
   "source": [
    "# Ensure that 'Order_Date' is in datetime format\n",
    "Final_Sales_2019['Order_Date'] = pd.to_datetime(Final_Sales_2019['Order_Date'], errors='coerce')\n",
    "Final_Sales_2019['Week'] = Final_Sales_2019['Order_Date'].dt.isocalendar().week\n",
    "\n",
    "# Calculate weekly sales\n",
    "weekly_sales = Final_Sales_2019.groupby('Week')['Total_Sales'].sum().reset_index()\n",
    "weekly_sales.columns = ['Week', 'Total_Sales']\n",
    "\n",
    "# Plot weekly sales trend using Matplotlib\n",
    "plt.figure(figsize=(12, 6))\n",
    "plt.plot(weekly_sales['Week'], weekly_sales['Total_Sales'], marker='o', linestyle='-', color='b')\n",
    "plt.title('Weekly Sales Trend in 2019')\n",
    "plt.xlabel('Week')\n",
    "plt.ylabel('Total Sales ($)')\n",
    "plt.xticks(ticks=range(1, 54), labels=[f'Week {i}' for i in range(1, 54)], rotation=45)\n",
    "plt.grid(True)\n",
    "plt.tight_layout()\n",
    "plt.show()"
   ]
  },
  {
   "cell_type": "markdown",
   "metadata": {},
   "source": [
    "Comments\n",
    "\n",
    "In weekly sales trend, the sales increase from week one and gets to the peak at week 16 and 17. It starts declining at week 18 and dips at week 27. Then it start rising slowly at week 29."
   ]
  },
  {
   "cell_type": "markdown",
   "metadata": {},
   "source": [
    "Decompose the time series data"
   ]
  },
  {
   "cell_type": "code",
   "execution_count": 68,
   "metadata": {},
   "outputs": [
    {
     "data": {
      "image/png": "[encoded data removed]",
      "text/plain": [
       "<Figure size 1400x1000 with 4 Axes>"
      ]
     },
     "metadata": {},
     "output_type": "display_data"
    }
   ],
   "source": [
    "# Decompose the time series data\n",
    "decomposition = seasonal_decompose(Final_Sales_2019['Total_Sales'], model='additive',period=12)\n",
    "\n",
    "# Plot the decomposed components\n",
    "plt.figure(figsize=(14, 10))\n",
    "plt.subplot(4, 1, 1)\n",
    "plt.plot(Final_Sales_2019.index, Final_Sales_2019['Total_Sales'], label='Original')\n",
    "plt.legend(loc='upper left')\n",
    "plt.subplot(4, 1, 2)\n",
    "plt.plot(decomposition.trend, label='Trend')\n",
    "plt.legend(loc='upper left')\n",
    "plt.subplot(4, 1, 3)\n",
    "plt.plot(decomposition.seasonal, label='Seasonal')\n",
    "plt.legend(loc='upper left')\n",
    "plt.subplot(4, 1, 4)\n",
    "plt.plot(decomposition.resid, label='Residual')\n",
    "plt.legend(loc='upper left')\n",
    "plt.tight_layout()\n",
    "plt.show()"
   ]
  },
  {
   "cell_type": "markdown",
   "metadata": {},
   "source": [
    "Comments\n",
    "\n",
    "Based on the visualization of the decomposition of the time series data for the Final_Sales_2019 dataset, we can gain the following insights:\n",
    "\n",
    "1. The seasonal component plot shows a recurring pattern of increased sales during the holiday season (around December) and a decrease in sales during the summer months (June to August). This pattern suggests that the sales data may be influenced by seasonal factors, such as holiday promotions and weather conditions.\n",
    "\n",
    "2. The trend component plot shows a general increasing trend over the 12-month period. This trend indicates that the total sales of the products are increasing over time. This could be due to factors such as market growth, increased demand, or changes in customer preferences.\n",
    "\n",
    "3. The residual component plot shows small fluctuations around zero, indicating that the model has effectively captured the underlying patterns in the data. This suggests that the decomposition of the time series data provides a good representation of the data, capturing the trend, seasonal patterns, and random fluctuations.\n",
    "\n",
    "These insights can help in understanding the sales patterns and trends can be useful for further analysis, forecasting, and decision-making."
   ]
  },
  {
   "cell_type": "markdown",
   "metadata": {},
   "source": [
    "Total Sales by City"
   ]
  },
  {
   "cell_type": "code",
   "execution_count": 69,
   "metadata": {},
   "outputs": [
    {
     "data": {
      "image/png": "[encoded data removed]",
      "text/plain": [
       "<Figure size 1200x800 with 1 Axes>"
      ]
     },
     "metadata": {},
     "output_type": "display_data"
    }
   ],
   "source": [
    "# Group by 'City' to calculate Total Sales per City\n",
    "Sales_by_city = Final_Sales_2019.groupby('City')['Total_Sales'].sum().sort_values(ascending=False).reset_index()\n",
    "\n",
    "# Set the figure size\n",
    "plt.figure(figsize=(12, 8))\n",
    "\n",
    "# Create a bar plot\n",
    "sns.barplot(data=Sales_by_city, x='City', y='Total_Sales', palette='Blues_d')\n",
    "\n",
    "# Customize the plot\n",
    "plt.title('Total Sales by City (2019)')\n",
    "plt.xlabel('City')\n",
    "plt.ylabel('Total Sales ($)')\n",
    "plt.xticks(rotation=90)  # Rotate x-axis labels for better readability\n",
    "\n",
    "# Show the plot\n",
    "plt.tight_layout()\n",
    "plt.show()"
   ]
  },
  {
   "cell_type": "markdown",
   "metadata": {},
   "source": [
    "Comments\n",
    "\n",
    "The bar chart visualizes the total sales by city, allowing us to compare the sales generated by cities. From the chart, we can identify which city have the highest and lowest sales. In this case, the city with the highest sales is San francisco followed by Los Angeles, New York City, Boston and Atlanta been the city with the lowest sales."
   ]
  },
  {
   "cell_type": "markdown",
   "metadata": {},
   "source": [
    "Sales from only San Francisco"
   ]
  },
  {
   "cell_type": "code",
   "execution_count": 70,
   "metadata": {},
   "outputs": [
    {
     "data": {
      "image/png": "[encoded data removed]",
      "text/plain": [
       "<Figure size 1000x600 with 1 Axes>"
      ]
     },
     "metadata": {},
     "output_type": "display_data"
    }
   ],
   "source": [
    "# Filter the data for sales in San Francisco\n",
    "san_francisco_sales = Final_Sales_2019[Final_Sales_2019['City'] == 'San Francisco']\n",
    "\n",
    "# Group the data by 'Product' and calculate the total sales for each product\n",
    "product_sales = san_francisco_sales.groupby('Product')['Total_Sales'].sum().reset_index()\n",
    "\n",
    "# Sort the data in descending order of total sales\n",
    "product_sales_sorted = product_sales.sort_values(by='Total_Sales', ascending=False)\n",
    "\n",
    "# Create a bar chart\n",
    "plt.figure(figsize=(10, 6))\n",
    "sns.barplot(data=product_sales_sorted, x='Product', y='Total_Sales', palette='viridis')\n",
    "\n",
    "# Update chart layout\n",
    "plt.title('Product Sales in San Francisco (Highest to Lowest)')\n",
    "plt.xlabel('Product')\n",
    "plt.ylabel('Total Sales ($)')\n",
    "plt.xticks(rotation=90)  # Rotate x-axis labels for readability\n",
    "\n",
    "# Show the plot\n",
    "plt.tight_layout()  # Adjusts layout to avoid label cut-off\n",
    "plt.show()"
   ]
  },
  {
   "cell_type": "markdown",
   "metadata": {},
   "source": [
    "Comments\n",
    "\n",
    "This shows all the products sold in San Francisco. Macbook Pro Laptop is still most sold product."
   ]
  },
  {
   "cell_type": "markdown",
   "metadata": {},
   "source": [
    "Total Sales by Quantity Ordered"
   ]
  },
  {
   "cell_type": "code",
   "execution_count": 71,
   "metadata": {},
   "outputs": [
    {
     "data": {
      "image/png": "[encoded data removed]",
      "text/plain": [
       "<Figure size 1000x600 with 1 Axes>"
      ]
     },
     "metadata": {},
     "output_type": "display_data"
    }
   ],
   "source": [
    "# Group by 'Quantity_Ordered' to calculate Total Sales per Quantity Ordered\n",
    "\n",
    "quantity_sales = Final_Sales_2019.groupby('Quantity_Ordered')['Total_Sales'].sum().reset_index()\n",
    "\n",
    "# Create a bar chart\n",
    "\n",
    "plt.figure(figsize=(10, 6))\n",
    "sns.barplot(data=quantity_sales, x='Quantity_Ordered', y='Total_Sales', palette='coolwarm')\n",
    "\n",
    "# Update chart layout\n",
    "\n",
    "plt.title('Total Sales by Quantity Ordered')\n",
    "plt.xlabel('Quantity Ordered')\n",
    "plt.ylabel('Total Sales ($)')\n",
    "\n",
    "# Show the plot\n",
    "\n",
    "plt.tight_layout()  # Adjusts layout to avoid label cut-off\n",
    "plt.show()\n"
   ]
  },
  {
   "cell_type": "markdown",
   "metadata": {},
   "source": [
    "Comments\n",
    "\n",
    "The bar chart visualizes the Total_Sales by Quantity_Ordered, allowing us to compare the sales generated by specific quantitiy. From the chart, we can identify which Quantity 1 the highest and Quantity 9 has lowest sales."
   ]
  },
  {
   "cell_type": "markdown",
   "metadata": {},
   "source": [
    "### **Answering Analytical Questions** "
   ]
  },
  {
   "cell_type": "markdown",
   "metadata": {},
   "source": [
    "Question 1 "
   ]
  },
  {
   "cell_type": "code",
   "execution_count": null,
   "metadata": {},
   "outputs": [],
   "source": []
  },
  {
   "cell_type": "markdown",
   "metadata": {},
   "source": [
    "### **Findings and Insights**"
   ]
  },
  {
   "cell_type": "markdown",
   "metadata": {},
   "source": [
    "### **Reccommendations** "
   ]
  },
  {
   "cell_type": "markdown",
   "metadata": {},
   "source": [
    "## **Deployment**"
   ]
  }
 ],
 "metadata": {
  "kernelspec": {
   "display_name": "env",
   "language": "python",
   "name": "python3"
  },
  "language_info": {
   "codemirror_mode": {
    "name": "ipython",
    "version": 3
   },
   "file_extension": ".py",
   "mimetype": "text/x-python",
   "name": "python",
   "nbconvert_exporter": "python",
   "pygments_lexer": "ipython3",
   "version": "3.10.9"
  }
 },
 "nbformat": 4,
 "nbformat_minor": 2
}
