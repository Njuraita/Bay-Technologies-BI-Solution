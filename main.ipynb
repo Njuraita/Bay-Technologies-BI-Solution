{
 "cells": [
  {
   "cell_type": "markdown",
   "metadata": {},
   "source": [
    "# **getINNOtized-BI-Solution**"
   ]
  },
  {
   "cell_type": "markdown",
   "metadata": {},
   "source": [
    "## **Business Understanding**"
   ]
  },
  {
   "cell_type": "markdown",
   "metadata": {},
   "source": [
    "Overview: Thi is an end-to-end business intelligence solution for getINNOtized, analyzing 2019 sales data to provide insights that help the business find opportunities to drive more sales and work more efficiently."
   ]
  },
  {
   "cell_type": "markdown",
   "metadata": {},
   "source": [
    "Questions sort to be answered: \n",
    "\n",
    "1. How much money did we make this year? \n",
    "\n",
    "2. Can we identify any seasonality in the sales? \n",
    "\n",
    "3. What are our best and worst-selling products? \n",
    "\n",
    "4. How do sales compare to previous months or weeks? \n",
    "\n",
    "5. Which cities are our products delivered to most? \n",
    "\n",
    "6. How do product categories compare in revenue generated and quantities ordered? \n",
    "\n",
    "7. You are required to show additional details from your findings in your data. "
   ]
  },
  {
   "cell_type": "markdown",
   "metadata": {},
   "source": [
    "NB: Products with unit prices above $99.99 should be labeled high-level products otherwise they should be basic level. "
   ]
  },
  {
   "cell_type": "markdown",
   "metadata": {},
   "source": [
    "**HYPOTHESIS TESTING**"
   ]
  },
  {
   "cell_type": "markdown",
   "metadata": {},
   "source": [
    "Null Hypothesis (H₀): There is no significant difference in the total sales (revenue) between high-level products priced above 99.99 and low-level products priced below 99.99\n",
    "\n",
    "Alternative Hypothesis (H₁): High-level products priced above 99.99 and low-level products priced below 99.99"
   ]
  },
  {
   "cell_type": "markdown",
   "metadata": {},
   "source": [
    "## **Data Understanding**"
   ]
  },
  {
   "cell_type": "code",
   "execution_count": 11,
   "metadata": {},
   "outputs": [],
   "source": [
    "import pyodbc #just installed with pip\n",
    "from dotenv import dotenv_values \n",
    "import pandas as pd\n",
    "import numpy as np\n",
    "import matplotlib.pyplot as plt\n",
    "import matplotlib.cm as cm\n",
    "import seaborn as sns\n",
    "import plotly.express as px\n",
    "import plotly.graph_objs as go\n",
    "import re\n",
    "from datetime import datetime\n",
    "\n",
    "\n",
    "from scipy import stats\n",
    "import statsmodels.api as sm\n",
    "from statsmodels.tsa.seasonal import seasonal_decompose\n",
    "from statsmodels.formula.api import ols\n",
    "from statsmodels.stats.anova import anova_lm\n",
    "\n",
    "\n",
    "\n",
    "\n",
    "import warnings\n",
    "warnings.filterwarnings('ignore')\n"
   ]
  },
  {
   "cell_type": "code",
   "execution_count": 12,
   "metadata": {},
   "outputs": [],
   "source": [
    "#Loading data for January to June 2019  from OneDrive downloaded data\n",
    "\n",
    "Jan_2019= pd.read_csv('Data\\Sales_January_2019.csv')\n",
    "Feb_2019= pd.read_csv('Data\\Sales_February_2019.csv')\n",
    "Mar_2019= pd.read_csv('Data\\Sales_March_2019.csv')\n",
    "Apr_2019= pd.read_csv('Data\\Sales_April_2019.csv')\n",
    "May_2019= pd.read_csv('Data\\Sales_May_2019.csv')\n",
    "Jun_2019= pd.read_csv('Data\\Sales_June_2019.csv')\n"
   ]
  },
  {
   "cell_type": "code",
   "execution_count": 13,
   "metadata": {},
   "outputs": [],
   "source": [
    "#Load environment variables from .env file into a dictionary to load data 2 which is July to December 2019\n",
    "\n",
    "environment_variables=dotenv_values('.env')\n",
    "\n",
    "# Get the values for the credentials you set in the '.env' file\n",
    "database = environment_variables.get(\"database\")\n",
    "server = environment_variables.get(\"server\")\n",
    "username = environment_variables.get(\"username\")\n",
    "password = environment_variables.get(\"password\")\n",
    "\n",
    "connection_string=f\"DRIVER={{SQL Server}};SERVER={server};DATABASE={database};UID={username};PWD={password}\""
   ]
  },
  {
   "cell_type": "code",
   "execution_count": 14,
   "metadata": {},
   "outputs": [],
   "source": [
    "# Use the connect method of the pyodbc library and pass in the connection string\n",
    "\n",
    "connection=pyodbc.connect(connection_string)"
   ]
  },
  {
   "cell_type": "code",
   "execution_count": 15,
   "metadata": {},
   "outputs": [],
   "source": [
    "db_query='''SELECT * \n",
    "FROM INFORMATION_SCHEMA.TABLES\n",
    "WHERE TABLE_SCHEMA= 'dbo' '''"
   ]
  },
  {
   "cell_type": "code",
   "execution_count": 16,
   "metadata": {},
   "outputs": [
    {
     "data": {
      "text/html": [
       "<div>\n",
       "<style scoped>\n",
       "    .dataframe tbody tr th:only-of-type {\n",
       "        vertical-align: middle;\n",
       "    }\n",
       "\n",
       "    .dataframe tbody tr th {\n",
       "        vertical-align: top;\n",
       "    }\n",
       "\n",
       "    .dataframe thead th {\n",
       "        text-align: right;\n",
       "    }\n",
       "</style>\n",
       "<table border=\"1\" class=\"dataframe\">\n",
       "  <thead>\n",
       "    <tr style=\"text-align: right;\">\n",
       "      <th></th>\n",
       "      <th>TABLE_CATALOG</th>\n",
       "      <th>TABLE_SCHEMA</th>\n",
       "      <th>TABLE_NAME</th>\n",
       "      <th>TABLE_TYPE</th>\n",
       "    </tr>\n",
       "  </thead>\n",
       "  <tbody>\n",
       "    <tr>\n",
       "      <th>0</th>\n",
       "      <td>dapDB</td>\n",
       "      <td>dbo</td>\n",
       "      <td>Sales_July_2019</td>\n",
       "      <td>BASE TABLE</td>\n",
       "    </tr>\n",
       "    <tr>\n",
       "      <th>1</th>\n",
       "      <td>dapDB</td>\n",
       "      <td>dbo</td>\n",
       "      <td>Sales_August_2019</td>\n",
       "      <td>BASE TABLE</td>\n",
       "    </tr>\n",
       "    <tr>\n",
       "      <th>2</th>\n",
       "      <td>dapDB</td>\n",
       "      <td>dbo</td>\n",
       "      <td>Sales_September_2019</td>\n",
       "      <td>BASE TABLE</td>\n",
       "    </tr>\n",
       "    <tr>\n",
       "      <th>3</th>\n",
       "      <td>dapDB</td>\n",
       "      <td>dbo</td>\n",
       "      <td>Sales_October_2019</td>\n",
       "      <td>BASE TABLE</td>\n",
       "    </tr>\n",
       "    <tr>\n",
       "      <th>4</th>\n",
       "      <td>dapDB</td>\n",
       "      <td>dbo</td>\n",
       "      <td>Sales_November_2019</td>\n",
       "      <td>BASE TABLE</td>\n",
       "    </tr>\n",
       "    <tr>\n",
       "      <th>5</th>\n",
       "      <td>dapDB</td>\n",
       "      <td>dbo</td>\n",
       "      <td>Sales_December_2019</td>\n",
       "      <td>BASE TABLE</td>\n",
       "    </tr>\n",
       "  </tbody>\n",
       "</table>\n",
       "</div>"
      ],
      "text/plain": [
       "  TABLE_CATALOG TABLE_SCHEMA            TABLE_NAME  TABLE_TYPE\n",
       "0         dapDB          dbo       Sales_July_2019  BASE TABLE\n",
       "1         dapDB          dbo     Sales_August_2019  BASE TABLE\n",
       "2         dapDB          dbo  Sales_September_2019  BASE TABLE\n",
       "3         dapDB          dbo    Sales_October_2019  BASE TABLE\n",
       "4         dapDB          dbo   Sales_November_2019  BASE TABLE\n",
       "5         dapDB          dbo   Sales_December_2019  BASE TABLE"
      ]
     },
     "execution_count": 16,
     "metadata": {},
     "output_type": "execute_result"
    }
   ],
   "source": [
    "#July to December 2019 data\n",
    "\n",
    "data_2= pd.read_sql(db_query, connection)\n",
    "data_2"
   ]
  },
  {
   "cell_type": "code",
   "execution_count": 17,
   "metadata": {},
   "outputs": [],
   "source": [
    "#Loading July_2019\n",
    "\n",
    "query = \"SELECT * FROM dbo.Sales_July_2019\"\n",
    "Jul_2019 = pd.read_sql(query, connection)\n",
    "\n",
    "\n",
    "#Loading Aug_2019 \n",
    "\n",
    "query = \"SELECT * FROM dbo.Sales_August_2019\"\n",
    "Aug_2019 = pd.read_sql(query, connection)\n",
    "\n",
    "\n",
    "#Loading Sep_2019 \n",
    "\n",
    "query = \"SELECT * FROM dbo.Sales_September_2019\"\n",
    "Sep_2019 = pd.read_sql(query, connection)\n",
    "\n",
    "\n",
    "#Loading Oct_2019 \n",
    "\n",
    "query = \"SELECT * FROM dbo.Sales_October_2019\"\n",
    "Oct_2019 = pd.read_sql(query, connection)\n",
    "\n",
    "\n",
    "#Loading Nov_2019 \n",
    "\n",
    "query = \"SELECT * FROM dbo.Sales_November_2019\"\n",
    "Nov_2019 = pd.read_sql(query, connection)\n",
    "\n",
    "\n",
    "#Loading Dec_2019 \n",
    "query = \"SELECT * FROM dbo.Sales_December_2019\"\n",
    "\n",
    "Dec_2019 = pd.read_sql(query, connection)"
   ]
  },
  {
   "cell_type": "markdown",
   "metadata": {},
   "source": [
    "### **Expolatory Data Analysis**"
   ]
  },
  {
   "cell_type": "code",
   "execution_count": null,
   "metadata": {},
   "outputs": [],
   "source": []
  },
  {
   "cell_type": "markdown",
   "metadata": {},
   "source": [
    "## **Data Preparation**"
   ]
  },
  {
   "cell_type": "markdown",
   "metadata": {},
   "source": [
    "### **Answering Analytical Questions** "
   ]
  },
  {
   "cell_type": "markdown",
   "metadata": {},
   "source": [
    "### **Findings and Insights**"
   ]
  },
  {
   "cell_type": "markdown",
   "metadata": {},
   "source": [
    "### **Reccommendations** "
   ]
  },
  {
   "cell_type": "markdown",
   "metadata": {},
   "source": [
    "## **Deployment**"
   ]
  }
 ],
 "metadata": {
  "kernelspec": {
   "display_name": "env",
   "language": "python",
   "name": "python3"
  },
  "language_info": {
   "codemirror_mode": {
    "name": "ipython",
    "version": 3
   },
   "file_extension": ".py",
   "mimetype": "text/x-python",
   "name": "python",
   "nbconvert_exporter": "python",
   "pygments_lexer": "ipython3",
   "version": "3.10.9"
  }
 },
 "nbformat": 4,
 "nbformat_minor": 2
}
